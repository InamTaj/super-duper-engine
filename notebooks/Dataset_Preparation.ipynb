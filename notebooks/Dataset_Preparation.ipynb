{
 "cells": [
  {
   "cell_type": "markdown",
   "metadata": {},
   "source": [
    "# Dataset Preparation"
   ]
  },
  {
   "cell_type": "markdown",
   "metadata": {},
   "source": [
    "## Imports"
   ]
  },
  {
   "cell_type": "code",
   "execution_count": 52,
   "metadata": {
    "ExecuteTime": {
     "end_time": "2020-05-15T07:04:00.657981Z",
     "start_time": "2020-05-15T07:04:00.648252Z"
    }
   },
   "outputs": [],
   "source": [
    "import os, glob, re\n",
    "import pandas as pd\n",
    "from sklearn.model_selection import train_test_split"
   ]
  },
  {
   "cell_type": "markdown",
   "metadata": {},
   "source": [
    "## Constants"
   ]
  },
  {
   "cell_type": "code",
   "execution_count": 53,
   "metadata": {
    "ExecuteTime": {
     "end_time": "2020-05-15T07:04:00.672502Z",
     "start_time": "2020-05-15T07:04:00.663769Z"
    }
   },
   "outputs": [],
   "source": [
    "# constants\n",
    "MIN_LENGTH = 40\n",
    "\n",
    "DATASET_PREFIX = '../dataset/'\n",
    "ENGLISH_PATH = DATASET_PREFIX + '1_english/'\n",
    "URLS_MENTIONS_REMOVED_PATH = DATASET_PREFIX + '2_filtered_urls_mentions/'\n",
    "MIN_LENGTH_PATH = DATASET_PREFIX + '3_length_greater_than_{0}/'.format(MIN_LENGTH)\n",
    "PREPROCESSED_PATH = DATASET_PREFIX + '4_pre-processed/'\n",
    "PROCESSED_PATH = DATASET_PREFIX + '5_processed/'"
   ]
  },
  {
   "cell_type": "markdown",
   "metadata": {},
   "source": [
    "## Load Data"
   ]
  },
  {
   "cell_type": "code",
   "execution_count": 54,
   "metadata": {
    "ExecuteTime": {
     "end_time": "2020-05-15T07:04:00.686693Z",
     "start_time": "2020-05-15T07:04:00.679275Z"
    }
   },
   "outputs": [],
   "source": [
    "def get_file_pairs(files_dir):\n",
    "    files = glob.glob(files_dir + '*.csv')\n",
    "    file_pairs = []\n",
    "\n",
    "    for each in files:\n",
    "        file_name = each.split('/')[-1:][0]\n",
    "\n",
    "        dF = pd.read_csv(each, usecols=['Text'])\n",
    "        dF['Text'] = dF['Text'].astype('str')\n",
    "        file_pairs.append((file_name, dF))\n",
    "        print('filename: {0}'.format(each))\n",
    "        print('size:     {0}'.format(dF.size))\n",
    "        print('----------------------------------------------------\\n')\n",
    "    \n",
    "    return file_pairs"
   ]
  },
  {
   "cell_type": "markdown",
   "metadata": {},
   "source": [
    "## Filter out URLs and @ Mentions"
   ]
  },
  {
   "cell_type": "code",
   "execution_count": 55,
   "metadata": {
    "ExecuteTime": {
     "end_time": "2020-05-15T07:04:00.938614Z",
     "start_time": "2020-05-15T07:04:00.688880Z"
    }
   },
   "outputs": [
    {
     "name": "stdout",
     "output_type": "stream",
     "text": [
      "filename: ../dataset/1_english/imrankhanpti.csv\n",
      "size:     5519\n",
      "----------------------------------------------------\n",
      "\n",
      "filename: ../dataset/1_english/bbhuttozardari.csv\n",
      "size:     4339\n",
      "----------------------------------------------------\n",
      "\n",
      "filename: ../dataset/1_english/narendramodi.csv\n",
      "size:     20173\n",
      "----------------------------------------------------\n",
      "\n",
      "filename: ../dataset/1_english/mjibrannasir.csv\n",
      "size:     19275\n",
      "----------------------------------------------------\n",
      "\n",
      "filename: ../dataset/1_english/maryamnsharif.csv\n",
      "size:     27681\n",
      "----------------------------------------------------\n",
      "\n",
      "filename: ../dataset/1_english/sherryrehman.csv\n",
      "size:     18469\n",
      "----------------------------------------------------\n",
      "\n",
      "filename: ../dataset/1_english/marvimemon.csv\n",
      "size:     5974\n",
      "----------------------------------------------------\n",
      "\n",
      "filename: ../dataset/1_english/fawadchaudhry.csv\n",
      "size:     23525\n",
      "----------------------------------------------------\n",
      "\n"
     ]
    }
   ],
   "source": [
    "english_file_pairs = get_file_pairs(ENGLISH_PATH)"
   ]
  },
  {
   "cell_type": "code",
   "execution_count": 56,
   "metadata": {
    "ExecuteTime": {
     "end_time": "2020-05-15T07:04:02.675343Z",
     "start_time": "2020-05-15T07:04:00.940552Z"
    }
   },
   "outputs": [
    {
     "name": "stdout",
     "output_type": "stream",
     "text": [
      "                                                   Text\n",
      "0     Overseas Pakistani have always been Pakistan's...\n",
      "1     My appeal to the international community, the ...\n",
      "2     Wishing all our Christian citizens a happy Eas...\n",
      "3     Pakistan innovates in the time of COVID19. Wit...\n",
      "4     With tax refunds & opening up the construction...\n",
      "...                                                 ...\n",
      "5514  There is not one statement I have ever given s...\n",
      "5515  How does opposing military operations which ha...\n",
      "5516  Pakistan needs to form an independent and sove...\n",
      "5517  The carnage in Lahore today is a direct result...\n",
      "5518  Drone attacks are immoral. They cause deaths o...\n",
      "\n",
      "[5519 rows x 1 columns] \n",
      "----------------------------------------------------\n",
      "                                                   Text\n",
      "0                       Message from   #Sindh #Covid_19\n",
      "1     PPP, Pakistan Sweet Homes set up dastarkhwan -...\n",
      "2                         So cool #PakistanFightsCorona\n",
      "3     Opinion | The Huge Cost of Waiting to Contain ...\n",
      "4                                                      \n",
      "...                                                 ...\n",
      "4334                                          thank you\n",
      "4335                                          thank you\n",
      "4336                                       calm down xx\n",
      "4337                                   congratulations!\n",
      "4338    how do i fix my profile picture so our faces...\n",
      "\n",
      "[4339 rows x 1 columns] \n",
      "----------------------------------------------------\n",
      "                                                    Text\n",
      "0      Ramzan Mubarak! I pray for everyone’s safety, ...\n",
      "1      Best wishes to Goa CM   Ji on his birthday. Ma...\n",
      "2      Today’s discussion with Panchayat Sarpanchs wa...\n",
      "3      Interacting with Sarpanchs across the country ...\n",
      "4      Some of the steps taken to help the most vulne...\n",
      "...                                                  ...\n",
      "20168  Narendrabhai Modi: Through water conservation ...\n",
      "20169  Women would play a crucial role in the develop...\n",
      "20170  Most awaited gujarati version of www.narendram...\n",
      "20171  An inspiring address to Scouts & Guides in Jam...\n",
      "20172  2nd Feb, I will be in Dahod for Gujarat Swarni...\n",
      "\n",
      "[20173 rows x 1 columns] \n",
      "----------------------------------------------------\n",
      "                                                    Text\n",
      "0      When someone propagates and enforces ill infor...\n",
      "1      Tonight as our   and   teams deliver ration to...\n",
      "2      Alhumdulillah more than 5000+ families served ...\n",
      "3      So far whatever has been done in Pakistan to c...\n",
      "4      The Plan agreed between Govt and Ulema simply ...\n",
      "...                                                  ...\n",
      "19270  Omg! Omg! Omg! The Pepsi wali aunty is back wi...\n",
      "19271  We are going shopping tomorrow because Altaf b...\n",
      "19272  It was a small toast to life and possibilities...\n",
      "19273  I am sorry Ray Romano but in Pakistan, \"Everyb...\n",
      "19274  The only Pakistani leaders in (self) exile are...\n",
      "\n",
      "[19275 rows x 1 columns] \n",
      "----------------------------------------------------\n",
      "                                                    Text\n",
      "0      Mankind has not known a bigger sacrifice than ...\n",
      "1                                         #NewProfilePic\n",
      "2      Fervent prayers for his beloved nation from Mo...\n",
      "3      Heartfelt condolences to the families of those...\n",
      "4      Pakistan is facing one of the gravest crises i...\n",
      "...                                                  ...\n",
      "27676  Nawaz Sharif in Baluchistan today. Hope he suc...\n",
      "27677               Mariam Nawaz visits LAHORE College  \n",
      "27678     Maryam Nawaz - Future of pakistan's politics  \n",
      "27679               Maryam Nawaz Sharif Talks to Media  \n",
      "27680  Maryam Nawaz Sharif Talks to Media about her P...\n",
      "\n",
      "[27681 rows x 1 columns] \n",
      "----------------------------------------------------\n",
      "                                                    Text\n",
      "0                                    What a lovely story\n",
      "1             Lovely to see you two out there #diplomile\n",
      "2      And what about talking to Iran, which has a co...\n",
      "3      Criminal indeed to cut off communications duri...\n",
      "4                                                Whoa...\n",
      "...                                                  ...\n",
      "18464  Yes, the CJ should take suo moto notice of Sal...\n",
      "18465                                                   \n",
      "18466  Dear All, none of the FB accts in my name is m...\n",
      "18467  A special thank you to all those who have welc...\n",
      "18468  The battle for reclaiming Jinnah's Pakistan co...\n",
      "\n",
      "[18469 rows x 1 columns] \n",
      "----------------------------------------------------\n",
      "                                                   Text\n",
      "0     Paris witnessed the most incredible storm last...\n",
      "1                                     AH. Hold fort ...\n",
      "2                                    tu va manquer trop\n",
      "3                                          Grandeur of \n",
      "4                 Where there is a will there is a way.\n",
      "...                                                 ...\n",
      "5969                           Thanku hon speaker sahib\n",
      "5970                                     Wb bisp review\n",
      "5971  Seera puri wth my bisp family on my one yr ann...\n",
      "5972                                     Merci monsieur\n",
      "5973                           25 th bisp board meeting\n",
      "\n",
      "[5974 rows x 1 columns] \n",
      "----------------------------------------------------\n",
      "                                                    Text\n",
      "0      This shameless admission by frmr Indian Mily o...\n",
      "1      Thank you for standing up for truth #Kashmir #...\n",
      "2                                     Legend #AhmadFaraz\n",
      "3      Combating coronavirus: Made-in-Pakistan medica...\n",
      "4      Truly a remarkable decison by Cabinet to allow...\n",
      "...                                                  ...\n",
      "23520                           Gng back to lhr from isl\n",
      "23521          Gng for lunch somewhere in gulberg ll see\n",
      "23522     Just had a long discussion with president mush\n",
      "23523                                Lazy lamhay at home\n",
      "23524                      going to Royal palm for lunch\n",
      "\n",
      "[23525 rows x 1 columns] \n",
      "----------------------------------------------------\n"
     ]
    }
   ],
   "source": [
    "# URLS_REMOVED_PATH\n",
    "regex_urls = r'(https?://.+\\b\\/?|.{3}\\.twitter.+\\b)'\n",
    "regex_mentions = r'@\\w+'\n",
    "regex = re.compile(regex_urls)\n",
    "\n",
    "if not os.path.exists(URLS_MENTIONS_REMOVED_PATH):\n",
    "    os.makedirs(URLS_MENTIONS_REMOVED_PATH)\n",
    "\n",
    "for each in english_file_pairs:\n",
    "    filename = each[0]\n",
    "    dF = each[1].copy()\n",
    "    output_file = URLS_MENTIONS_REMOVED_PATH + filename\n",
    "\n",
    "    # remove URLs\n",
    "    dF.Text = dF.apply(lambda x: x.str.replace(regex_urls, ' '))\n",
    "    # remove mentions\n",
    "    dF.Text = dF.apply(lambda x: x.str.replace(regex_mentions, ' '))\n",
    "    # save\n",
    "    dF.to_csv(output_file, index=False, columns=['Text'])\n",
    "    print(dF, '\\n----------------------------------------------------')    "
   ]
  },
  {
   "cell_type": "markdown",
   "metadata": {},
   "source": [
    "## Filter for MIN_LENGTH"
   ]
  },
  {
   "cell_type": "code",
   "execution_count": 57,
   "metadata": {
    "ExecuteTime": {
     "end_time": "2020-05-15T07:04:02.903719Z",
     "start_time": "2020-05-15T07:04:02.676945Z"
    }
   },
   "outputs": [
    {
     "name": "stdout",
     "output_type": "stream",
     "text": [
      "filename: ../dataset/2_filtered_urls_mentions/imrankhanpti.csv\n",
      "size:     5513\n",
      "----------------------------------------------------\n",
      "\n",
      "filename: ../dataset/2_filtered_urls_mentions/bbhuttozardari.csv\n",
      "size:     4292\n",
      "----------------------------------------------------\n",
      "\n",
      "filename: ../dataset/2_filtered_urls_mentions/narendramodi.csv\n",
      "size:     20170\n",
      "----------------------------------------------------\n",
      "\n",
      "filename: ../dataset/2_filtered_urls_mentions/mjibrannasir.csv\n",
      "size:     19206\n",
      "----------------------------------------------------\n",
      "\n",
      "filename: ../dataset/2_filtered_urls_mentions/maryamnsharif.csv\n",
      "size:     27460\n",
      "----------------------------------------------------\n",
      "\n",
      "filename: ../dataset/2_filtered_urls_mentions/sherryrehman.csv\n",
      "size:     18218\n",
      "----------------------------------------------------\n",
      "\n",
      "filename: ../dataset/2_filtered_urls_mentions/marvimemon.csv\n",
      "size:     5671\n",
      "----------------------------------------------------\n",
      "\n",
      "filename: ../dataset/2_filtered_urls_mentions/fawadchaudhry.csv\n",
      "size:     23349\n",
      "----------------------------------------------------\n",
      "\n"
     ]
    }
   ],
   "source": [
    "url_filtered_file_pairs = get_file_pairs(URLS_MENTIONS_REMOVED_PATH)"
   ]
  },
  {
   "cell_type": "code",
   "execution_count": 58,
   "metadata": {
    "ExecuteTime": {
     "end_time": "2020-05-15T07:04:03.790059Z",
     "start_time": "2020-05-15T07:04:02.906101Z"
    }
   },
   "outputs": [
    {
     "name": "stdout",
     "output_type": "stream",
     "text": [
      "../dataset/3_length_greater_than_40/imrankhanpti.csv\n",
      "                                                   Text\n",
      "0     Overseas Pakistani have always been Pakistan's...\n",
      "1     My appeal to the international community, the ...\n",
      "2     Wishing all our Christian citizens a happy Eas...\n",
      "3     Pakistan innovates in the time of COVID19. Wit...\n",
      "4     With tax refunds & opening up the construction...\n",
      "...                                                 ...\n",
      "5508  There is not one statement I have ever given s...\n",
      "5509  How does opposing military operations which ha...\n",
      "5510  Pakistan needs to form an independent and sove...\n",
      "5511  The carnage in Lahore today is a direct result...\n",
      "5512  Drone attacks are immoral. They cause deaths o...\n",
      "\n",
      "[5357 rows x 1 columns] \n",
      "----------------------------------------------------\n",
      "../dataset/3_length_greater_than_40/bbhuttozardari.csv\n",
      "                                                   Text\n",
      "1     PPP, Pakistan Sweet Homes set up dastarkhwan -...\n",
      "3     Opinion | The Huge Cost of Waiting to Contain ...\n",
      "4     Pakistan 'sleep walking' into virus disaster, ...\n",
      "5     I hope we emerge from this Pandemic with a gre...\n",
      "6     Wishing Christian Pakistanis a Happy Easter. S...\n",
      "...                                                 ...\n",
      "4277    thank you! I've read many of your articles a...\n",
      "4278  ahhh... cup of coffee and  . perfect way to st...\n",
      "4279    thank you. vital isn't the word i'd use but ...\n",
      "4281   thank you for all the welcome messages everyone.\n",
      "4291    how do i fix my profile picture so our faces...\n",
      "\n",
      "[3415 rows x 1 columns] \n",
      "----------------------------------------------------\n",
      "../dataset/3_length_greater_than_40/narendramodi.csv\n",
      "                                                    Text\n",
      "0      Ramzan Mubarak! I pray for everyone’s safety, ...\n",
      "1      Best wishes to Goa CM   Ji on his birthday. Ma...\n",
      "2      Today’s discussion with Panchayat Sarpanchs wa...\n",
      "3      Interacting with Sarpanchs across the country ...\n",
      "4      Some of the steps taken to help the most vulne...\n",
      "...                                                  ...\n",
      "20165  Narendrabhai Modi: Through water conservation ...\n",
      "20166  Women would play a crucial role in the develop...\n",
      "20167  Most awaited gujarati version of www.narendram...\n",
      "20168  An inspiring address to Scouts & Guides in Jam...\n",
      "20169  2nd Feb, I will be in Dahod for Gujarat Swarni...\n",
      "\n",
      "[19153 rows x 1 columns] \n",
      "----------------------------------------------------\n",
      "../dataset/3_length_greater_than_40/mjibrannasir.csv\n",
      "                                                    Text\n",
      "0      When someone propagates and enforces ill infor...\n",
      "1      Tonight as our   and   teams deliver ration to...\n",
      "2      Alhumdulillah more than 5000+ families served ...\n",
      "3      So far whatever has been done in Pakistan to c...\n",
      "4      The Plan agreed between Govt and Ulema simply ...\n",
      "...                                                  ...\n",
      "19201  Omg! Omg! Omg! The Pepsi wali aunty is back wi...\n",
      "19202  We are going shopping tomorrow because Altaf b...\n",
      "19203  It was a small toast to life and possibilities...\n",
      "19204  I am sorry Ray Romano but in Pakistan, \"Everyb...\n",
      "19205  The only Pakistani leaders in (self) exile are...\n",
      "\n",
      "[17010 rows x 1 columns] \n",
      "----------------------------------------------------\n",
      "../dataset/3_length_greater_than_40/maryamnsharif.csv\n",
      "                                                    Text\n",
      "0      Mankind has not known a bigger sacrifice than ...\n",
      "2      Fervent prayers for his beloved nation from Mo...\n",
      "3      Heartfelt condolences to the families of those...\n",
      "4      Pakistan is facing one of the gravest crises i...\n",
      "7      Another PML-N member arrested. This is their r...\n",
      "...                                                  ...\n",
      "27453  Nawaz calls for ending army operation in Baloc...\n",
      "27454      Nawaz urges urgent measures for Balochistan  \n",
      "27455  Nawaz Sharif in Baluchistan today. Hope he suc...\n",
      "27457     Maryam Nawaz - Future of pakistan's politics  \n",
      "27459  Maryam Nawaz Sharif Talks to Media about her P...\n",
      "\n",
      "[17578 rows x 1 columns] \n",
      "----------------------------------------------------\n",
      "../dataset/3_length_greater_than_40/sherryrehman.csv\n",
      "                                                    Text\n",
      "1             Lovely to see you two out there #diplomile\n",
      "2      And what about talking to Iran, which has a co...\n",
      "3      Criminal indeed to cut off communications duri...\n",
      "5      Please stay strong. They probably have limited...\n",
      "7      Horror stories on overseas Pakistanis left str...\n",
      "...                                                  ...\n",
      "18211  Our anchors should be hosting experts on joint...\n",
      "18214  Yes, the CJ should take suo moto notice of Sal...\n",
      "18215  Dear All, none of the FB accts in my name is m...\n",
      "18216  A special thank you to all those who have welc...\n",
      "18217  The battle for reclaiming Jinnah's Pakistan co...\n",
      "\n",
      "[14226 rows x 1 columns] \n",
      "----------------------------------------------------\n",
      "../dataset/3_length_greater_than_40/marvimemon.csv\n",
      "                                                   Text\n",
      "0     Paris witnessed the most incredible storm last...\n",
      "5     Reality checks continue. Crowd pulling strateg...\n",
      "6     Reality check of Pak health system which can’t...\n",
      "11    One more example of a project of PMLN days sid...\n",
      "12    The most credible poverty data is BISP NSER......\n",
      "...                                                 ...\n",
      "5659  Driving whole nite to meet my ryk maaarooaris....\n",
      "5660  Last of the comm strategy events one in each p...\n",
      "5662  Wth no flights rahimyar khan is long trek frm ...\n",
      "5665  Thanku to all orgs who hav helped bisp benefic...\n",
      "5668  Seera puri wth my bisp family on my one yr ann...\n",
      "\n",
      "[3917 rows x 1 columns] \n",
      "----------------------------------------------------\n",
      "../dataset/3_length_greater_than_40/fawadchaudhry.csv\n",
      "                                                    Text\n",
      "0      This shameless admission by frmr Indian Mily o...\n",
      "1      Thank you for standing up for truth #Kashmir #...\n",
      "3      Combating coronavirus: Made-in-Pakistan medica...\n",
      "4      Truly a remarkable decison by Cabinet to allow...\n",
      "5      So grateful   endorsement from an expert like ...\n",
      "...                                                  ...\n",
      "23340  Jagday rehna saday tey na rehna (A public serv...\n",
      "23341  NEW CEO OF AL QAIDA...ANSAR ABBASI, IRFAN SADD...\n",
      "23342  USA-Pakistan lets do it OBL death is great suc...\n",
      "23345          Gng for lunch somewhere in gulberg ll see\n",
      "23346     Just had a long discussion with president mush\n",
      "\n",
      "[16934 rows x 1 columns] \n",
      "----------------------------------------------------\n"
     ]
    }
   ],
   "source": [
    "if not os.path.exists(MIN_LENGTH_PATH):\n",
    "    os.makedirs(MIN_LENGTH_PATH)\n",
    "\n",
    "\n",
    "for each in url_filtered_file_pairs:\n",
    "    filename = each[0]\n",
    "    dF = each[1].copy()\n",
    "    output_file = MIN_LENGTH_PATH + filename\n",
    "    print(output_file)\n",
    "\n",
    "    dF = dF[ dF['Text'].str.len() > MIN_LENGTH]\n",
    "    \n",
    "    # save\n",
    "    dF.to_csv(output_file, index=False, columns=['Text'])\n",
    "\n",
    "    print(dF, '\\n----------------------------------------------------')"
   ]
  },
  {
   "cell_type": "markdown",
   "metadata": {},
   "source": [
    "## Prepare Dataset\n",
    "- change case to smaller-case\n",
    "- remove punctuation\n",
    "- replace multiple consecutive spaces with single space\n",
    "- filter for MIN_LENGTH x 2\n",
    "- add class labels"
   ]
  },
  {
   "cell_type": "code",
   "execution_count": 59,
   "metadata": {
    "ExecuteTime": {
     "end_time": "2020-05-15T07:04:03.992635Z",
     "start_time": "2020-05-15T07:04:03.796640Z"
    }
   },
   "outputs": [
    {
     "name": "stdout",
     "output_type": "stream",
     "text": [
      "filename: ../dataset/3_length_greater_than_40/imrankhanpti.csv\n",
      "size:     5357\n",
      "----------------------------------------------------\n",
      "\n",
      "filename: ../dataset/3_length_greater_than_40/bbhuttozardari.csv\n",
      "size:     3415\n",
      "----------------------------------------------------\n",
      "\n",
      "filename: ../dataset/3_length_greater_than_40/narendramodi.csv\n",
      "size:     19153\n",
      "----------------------------------------------------\n",
      "\n",
      "filename: ../dataset/3_length_greater_than_40/mjibrannasir.csv\n",
      "size:     17010\n",
      "----------------------------------------------------\n",
      "\n",
      "filename: ../dataset/3_length_greater_than_40/maryamnsharif.csv\n",
      "size:     17578\n",
      "----------------------------------------------------\n",
      "\n",
      "filename: ../dataset/3_length_greater_than_40/sherryrehman.csv\n",
      "size:     14226\n",
      "----------------------------------------------------\n",
      "\n",
      "filename: ../dataset/3_length_greater_than_40/marvimemon.csv\n",
      "size:     3917\n",
      "----------------------------------------------------\n",
      "\n",
      "filename: ../dataset/3_length_greater_than_40/fawadchaudhry.csv\n",
      "size:     16934\n",
      "----------------------------------------------------\n",
      "\n"
     ]
    }
   ],
   "source": [
    "file_pairs = get_file_pairs(MIN_LENGTH_PATH)"
   ]
  },
  {
   "cell_type": "code",
   "execution_count": 60,
   "metadata": {
    "ExecuteTime": {
     "end_time": "2020-05-15T07:04:06.200810Z",
     "start_time": "2020-05-15T07:04:03.994762Z"
    }
   },
   "outputs": [
    {
     "name": "stdout",
     "output_type": "stream",
     "text": [
      "                                                   Text         Label\n",
      "0     overseas pakistani have always been pakistan s...  imrankhanpti\n",
      "1     my appeal to the international community the u...  imrankhanpti\n",
      "2     wishing all our christian citizens a happy eas...  imrankhanpti\n",
      "3     pakistan innovates in the time of covid19 with...  imrankhanpti\n",
      "4     with tax refunds opening up the construction s...  imrankhanpti\n",
      "...                                                 ...           ...\n",
      "5350   my political role model is quaid e azam and i...  imrankhanpti\n",
      "5351  there is an institutional collapse in pakistan...  imrankhanpti\n",
      "5353  how does opposing military operations which ha...  imrankhanpti\n",
      "5354  pakistan needs to form an independent and sove...  imrankhanpti\n",
      "5356  drone attacks are immoral they cause deaths of...  imrankhanpti\n",
      "\n",
      "[4843 rows x 2 columns]\n",
      "                                                   Text           Label\n",
      "3     i hope we emerge from this pandemic with a gre...  bbhuttozardari\n",
      "8     not sure what the government is doing on aware...  bbhuttozardari\n",
      "10    our hearts go out to the families of our brave...  bbhuttozardari\n",
      "11    grateful to many private hospitals of sindh wh...  bbhuttozardari\n",
      "12    april 4th 2020 ever year for last 41 yrs hundr...  bbhuttozardari\n",
      "...                                                 ...             ...\n",
      "3406   i took participate to mean contest in which c...  bbhuttozardari\n",
      "3407  finished reading beyond fundamentalism agree w...  bbhuttozardari\n",
      "3408   two cheers for democracy one because it admit...  bbhuttozardari\n",
      "3410   thank you i ve read many of your articles and...  bbhuttozardari\n",
      "3412   thank you vital isn t the word i d use but le...  bbhuttozardari\n",
      "\n",
      "[2272 rows x 2 columns]\n",
      "                                                    Text         Label\n",
      "0      ramzan mubarak i pray for everyone s safety we...  narendramodi\n",
      "1      best wishes to goa cm ji on his birthday may h...  narendramodi\n",
      "2      today s discussion with panchayat sarpanchs wa...  narendramodi\n",
      "3      interacting with sarpanchs across the country ...  narendramodi\n",
      "5      exchanged views on the covid 19 pandemic with ...  narendramodi\n",
      "...                                                  ...           ...\n",
      "19144  how to tackle terrorism listen mind blowing au...  narendramodi\n",
      "19145   thank you very much for appreciating the webs...  narendramodi\n",
      "19148  narendrabhai modi through water conservation m...  narendramodi\n",
      "19150  most awaited gujarati version of www narendram...  narendramodi\n",
      "19151  an inspiring address to scouts guides in jambo...  narendramodi\n",
      "\n",
      "[16271 rows x 2 columns]\n",
      "                                                    Text         Label\n",
      "0      when someone propagates and enforces ill infor...  mjibrannasir\n",
      "1      tonight as our and teams deliver ration to our...  mjibrannasir\n",
      "2      alhumdulillah more than 5000 families served b...  mjibrannasir\n",
      "3      so far whatever has been done in pakistan to c...  mjibrannasir\n",
      "4      the plan agreed between govt and ulema simply ...  mjibrannasir\n",
      "...                                                  ...           ...\n",
      "16998  post midnight saw homeless kids sleeping next ...  mjibrannasir\n",
      "17000  imran khan why do u sit out every time the nat...  mjibrannasir\n",
      "17002  your custom mix special sheesha waheed s kabab...  mjibrannasir\n",
      "17005  omg omg omg the pepsi wali aunty is back with ...  mjibrannasir\n",
      "17009  the only pakistani leaders in self exile are p...  mjibrannasir\n",
      "\n",
      "[12992 rows x 2 columns]\n",
      "                                                    Text          Label\n",
      "0      mankind has not known a bigger sacrifice than ...  maryamnsharif\n",
      "1      fervent prayers for his beloved nation from mo...  maryamnsharif\n",
      "2      heartfelt condolences to the families of those...  maryamnsharif\n",
      "3      pakistan is facing one of the gravest crises i...  maryamnsharif\n",
      "4      another pml n member arrested this is their re...  maryamnsharif\n",
      "...                                                  ...            ...\n",
      "17568  before hurling blames at others just remember ...  maryamnsharif\n",
      "17569   how can you not be ashamed of a tainted fathe...  maryamnsharif\n",
      "17570  zardari sb u parried the most pertinent burnin...  maryamnsharif\n",
      "17571   i shall stand by my people with my ppl in the...  maryamnsharif\n",
      "17575  nawaz sharif in baluchistan today hope he succ...  maryamnsharif\n",
      "\n",
      "[9892 rows x 2 columns]\n",
      "                                                    Text         Label\n",
      "1      and what about talking to iran which has a con...  sherryrehman\n",
      "2      criminal indeed to cut off communications duri...  sherryrehman\n",
      "3      please stay strong they probably have limited ...  sherryrehman\n",
      "4      horror stories on overseas pakistanis left str...  sherryrehman\n",
      "6      will covid 19 reshape afghan peace the convent...  sherryrehman\n",
      "...                                                  ...           ...\n",
      "14221  our anchors should be hosting experts on joint...  sherryrehman\n",
      "14222  yes the cj should take suo moto notice of salm...  sherryrehman\n",
      "14223  dear all none of the fb accts in my name is mi...  sherryrehman\n",
      "14224  a special thank you to all those who have welc...  sherryrehman\n",
      "14225  the battle for reclaiming jinnah s pakistan co...  sherryrehman\n",
      "\n",
      "[10206 rows x 2 columns]\n",
      "                                                   Text       Label\n",
      "0     paris witnessed the most incredible storm last...  marvimemon\n",
      "2     reality check of pak health system which can t...  marvimemon\n",
      "4     the most credible poverty data is bisp nser wh...  marvimemon\n",
      "5     the muddled crass accusatory communication str...  marvimemon\n",
      "6     manners values transparency efficiency are par...  marvimemon\n",
      "...                                                 ...         ...\n",
      "3908  surveteqms plus desks 4self registrations plus...  marvimemon\n",
      "3911  medabadalbarkhakhimniyan gajaanbarishtebaraanv...  marvimemon\n",
      "3912  driving whole nite to meet my ryk maaarooaris ...  marvimemon\n",
      "3914  wth no flights rahimyar khan is long trek frm ...  marvimemon\n",
      "3916  seera puri wth my bisp family on my one yr ann...  marvimemon\n",
      "\n",
      "[2834 rows x 2 columns]\n",
      "                                                    Text          Label\n",
      "0      this shameless admission by frmr indian mily o...  fawadchaudhry\n",
      "2      combating coronavirus made in pakistan medical...  fawadchaudhry\n",
      "3      truly a remarkable decison by cabinet to allow...  fawadchaudhry\n",
      "4      so grateful endorsement from an expert like yo...  fawadchaudhry\n",
      "5      thankyou for hosting event and that too in for...  fawadchaudhry\n",
      "...                                                  ...            ...\n",
      "16924  future of pakistan is to follow sufi tradition...  fawadchaudhry\n",
      "16925  now naval base attacked dont remember what las...  fawadchaudhry\n",
      "16926  our establishments policy of inflaming hatred ...  fawadchaudhry\n",
      "16927  in the heat of dubai thinking whats biiger vio...  fawadchaudhry\n",
      "16928  seems the favorite pass game in islamabad is b...  fawadchaudhry\n",
      "\n",
      "[9803 rows x 2 columns]\n"
     ]
    }
   ],
   "source": [
    "if not os.path.exists(PREPROCESSED_PATH):\n",
    "    os.makedirs(PREPROCESSED_PATH)\n",
    "\n",
    "for each in file_pairs:\n",
    "    file_name = each[0]\n",
    "    label = file_name.split('.csv')[0]\n",
    "    dF = each[1].copy()\n",
    "    output_file = PREPROCESSED_PATH + file_name\n",
    "\n",
    "    # convert to lower-case\n",
    "    dF.Text = dF.apply(lambda x: x.str.lower())\n",
    "    # remove punctuation\n",
    "    dF.Text = dF.apply(lambda x: x.str.replace(r'[^a-zA-Z_\\s0-9#]', ' '))\n",
    "    # remove extra spaces\n",
    "    dF.Text = dF.apply(lambda x: x.str.replace(r'\\s{2,}', ' '))\n",
    "    # filter for len(tweets) > MIN_LENGTH x 2 to get more meaningful tweets\n",
    "    dF = dF[ dF['Text'].str.len() > MIN_LENGTH * 2]\n",
    "\n",
    "    # add label\n",
    "    dF['Label'] = label\n",
    "\n",
    "    dF.to_csv(output_file, index=False, columns=['Label','Text'])\n",
    "    \n",
    "    print(dF)"
   ]
  },
  {
   "cell_type": "code",
   "execution_count": 61,
   "metadata": {
    "ExecuteTime": {
     "end_time": "2020-05-15T07:04:06.513604Z",
     "start_time": "2020-05-15T07:04:06.222105Z"
    }
   },
   "outputs": [
    {
     "name": "stdout",
     "output_type": "stream",
     "text": [
      "==========FINAL DATASET STATS==========\n",
      "\n",
      "filename: ../dataset/4_pre-processed/imrankhanpti.csv\n",
      "size:     4843\n",
      "----------------------------------------------------\n",
      "\n",
      "filename: ../dataset/4_pre-processed/bbhuttozardari.csv\n",
      "size:     2272\n",
      "----------------------------------------------------\n",
      "\n",
      "filename: ../dataset/4_pre-processed/narendramodi.csv\n",
      "size:     16271\n",
      "----------------------------------------------------\n",
      "\n",
      "filename: ../dataset/4_pre-processed/mjibrannasir.csv\n",
      "size:     12992\n",
      "----------------------------------------------------\n",
      "\n",
      "filename: ../dataset/4_pre-processed/maryamnsharif.csv\n",
      "size:     9892\n",
      "----------------------------------------------------\n",
      "\n",
      "filename: ../dataset/4_pre-processed/sherryrehman.csv\n",
      "size:     10206\n",
      "----------------------------------------------------\n",
      "\n",
      "filename: ../dataset/4_pre-processed/marvimemon.csv\n",
      "size:     2834\n",
      "----------------------------------------------------\n",
      "\n",
      "filename: ../dataset/4_pre-processed/fawadchaudhry.csv\n",
      "size:     9803\n",
      "----------------------------------------------------\n",
      "\n",
      "imrankhanpti.csv\t\tLength: 4843\n",
      "bbhuttozardari.csv\t\tLength: 2272\n",
      "narendramodi.csv\t\tLength: 16271\n",
      "mjibrannasir.csv\t\tLength: 12992\n",
      "maryamnsharif.csv\t\tLength: 9892\n",
      "sherryrehman.csv\t\tLength: 10206\n",
      "marvimemon.csv\t\tLength: 2834\n",
      "fawadchaudhry.csv\t\tLength: 9803\n"
     ]
    }
   ],
   "source": [
    "print('==========FINAL DATASET STATS==========\\n')\n",
    "for pair in get_file_pairs(PREPROCESSED_PATH):\n",
    "    print('{0}\\t\\tLength: {1}'.format(pair[0], len(pair[1])))"
   ]
  },
  {
   "cell_type": "markdown",
   "metadata": {
    "ExecuteTime": {
     "end_time": "2020-05-09T08:17:55.125949Z",
     "start_time": "2020-05-09T08:17:55.121163Z"
    }
   },
   "source": [
    "### Create Dataset Files\n",
    "- single dataset file\n",
    "- split to train, test, validation sets"
   ]
  },
  {
   "cell_type": "markdown",
   "metadata": {},
   "source": [
    "#### dataset.csv"
   ]
  },
  {
   "cell_type": "code",
   "execution_count": 62,
   "metadata": {
    "ExecuteTime": {
     "end_time": "2020-05-15T07:04:06.531562Z",
     "start_time": "2020-05-15T07:04:06.521271Z"
    }
   },
   "outputs": [],
   "source": [
    "def get_prefixed_file_pairs(files_dir):\n",
    "    files = glob.glob(files_dir + '*.csv')\n",
    "    file_pairs = []\n",
    "\n",
    "    for each in files:\n",
    "        file_name = each.split('/')[-1:][0]\n",
    "\n",
    "        dF = pd.read_csv(each, usecols=['Label', 'Text'])\n",
    "        dF['Text'] = dF['Text'].astype('str')\n",
    "        file_pairs.append((file_name, dF))\n",
    "        print('filename: {0}'.format(each))\n",
    "        print('size:     {0}'.format(len(dF)))\n",
    "        print('----------------------------------------------------\\n')\n",
    "    \n",
    "    return file_pairs"
   ]
  },
  {
   "cell_type": "code",
   "execution_count": 63,
   "metadata": {
    "ExecuteTime": {
     "end_time": "2020-05-15T07:04:06.746913Z",
     "start_time": "2020-05-15T07:04:06.541702Z"
    }
   },
   "outputs": [
    {
     "name": "stdout",
     "output_type": "stream",
     "text": [
      "filename: ../dataset/4_pre-processed/imrankhanpti.csv\n",
      "size:     4843\n",
      "----------------------------------------------------\n",
      "\n",
      "filename: ../dataset/4_pre-processed/bbhuttozardari.csv\n",
      "size:     2272\n",
      "----------------------------------------------------\n",
      "\n",
      "filename: ../dataset/4_pre-processed/narendramodi.csv\n",
      "size:     16271\n",
      "----------------------------------------------------\n",
      "\n",
      "filename: ../dataset/4_pre-processed/mjibrannasir.csv\n",
      "size:     12992\n",
      "----------------------------------------------------\n",
      "\n",
      "filename: ../dataset/4_pre-processed/maryamnsharif.csv\n",
      "size:     9892\n",
      "----------------------------------------------------\n",
      "\n",
      "filename: ../dataset/4_pre-processed/sherryrehman.csv\n",
      "size:     10206\n",
      "----------------------------------------------------\n",
      "\n",
      "filename: ../dataset/4_pre-processed/marvimemon.csv\n",
      "size:     2834\n",
      "----------------------------------------------------\n",
      "\n",
      "filename: ../dataset/4_pre-processed/fawadchaudhry.csv\n",
      "size:     9803\n",
      "----------------------------------------------------\n",
      "\n"
     ]
    }
   ],
   "source": [
    "file_pairs = get_prefixed_file_pairs(PREPROCESSED_PATH)"
   ]
  },
  {
   "cell_type": "code",
   "execution_count": 64,
   "metadata": {
    "ExecuteTime": {
     "end_time": "2020-05-15T07:04:07.182323Z",
     "start_time": "2020-05-15T07:04:06.748890Z"
    }
   },
   "outputs": [
    {
     "name": "stdout",
     "output_type": "stream",
     "text": [
      "              Label                                               Text\n",
      "0      imrankhanpti  overseas pakistani have always been pakistan s...\n",
      "1      imrankhanpti  my appeal to the international community the u...\n",
      "2      imrankhanpti  wishing all our christian citizens a happy eas...\n",
      "3      imrankhanpti  pakistan innovates in the time of covid19 with...\n",
      "4      imrankhanpti  with tax refunds opening up the construction s...\n",
      "...             ...                                                ...\n",
      "9798  fawadchaudhry  future of pakistan is to follow sufi tradition...\n",
      "9799  fawadchaudhry  now naval base attacked dont remember what las...\n",
      "9800  fawadchaudhry  our establishments policy of inflaming hatred ...\n",
      "9801  fawadchaudhry  in the heat of dubai thinking whats biiger vio...\n",
      "9802  fawadchaudhry  seems the favorite pass game in islamabad is b...\n",
      "\n",
      "[69113 rows x 2 columns]\n"
     ]
    }
   ],
   "source": [
    "frames_list = []\n",
    "for each in file_pairs:\n",
    "    dF = each[1].copy()\n",
    "    frames_list.append(dF)\n",
    "\n",
    "bigDF = pd.concat(frames_list)\n",
    "\n",
    "if not os.path.exists(PROCESSED_PATH):\n",
    "    os.makedirs(PROCESSED_PATH)\n",
    "\n",
    "bigDF.to_csv(PROCESSED_PATH + 'dataset.csv', index=False, columns=['Label', 'Text'])\n",
    "\n",
    "print(bigDF)"
   ]
  },
  {
   "cell_type": "markdown",
   "metadata": {},
   "source": [
    "#### Train, Test, Val Split"
   ]
  },
  {
   "cell_type": "code",
   "execution_count": 65,
   "metadata": {
    "ExecuteTime": {
     "end_time": "2020-05-15T07:04:07.355957Z",
     "start_time": "2020-05-15T07:04:07.188158Z"
    }
   },
   "outputs": [
    {
     "name": "stdout",
     "output_type": "stream",
     "text": [
      "dataset length: 69113\n"
     ]
    }
   ],
   "source": [
    "input_file = PROCESSED_PATH + 'dataset.csv';\n",
    "datasetFrame = pd.read_csv(input_file)\n",
    "print('dataset length:', len(datasetFrame))"
   ]
  },
  {
   "cell_type": "code",
   "execution_count": 66,
   "metadata": {
    "ExecuteTime": {
     "end_time": "2020-05-15T07:04:07.406114Z",
     "start_time": "2020-05-15T07:04:07.358407Z"
    }
   },
   "outputs": [
    {
     "data": {
      "text/plain": [
       "(46996, 8294, 13823)"
      ]
     },
     "execution_count": 66,
     "metadata": {},
     "output_type": "execute_result"
    }
   ],
   "source": [
    "non_test_set, test_set = train_test_split(datasetFrame, test_size=0.2, random_state=18030010)\n",
    "train_set, val_set = train_test_split(non_test_set, test_size=0.15, random_state=18030010)\n",
    "\n",
    "len(train_set), len(val_set), len(test_set)"
   ]
  },
  {
   "cell_type": "code",
   "execution_count": 67,
   "metadata": {
    "ExecuteTime": {
     "end_time": "2020-05-15T07:04:08.025183Z",
     "start_time": "2020-05-15T07:04:07.408144Z"
    }
   },
   "outputs": [
    {
     "name": "stdout",
     "output_type": "stream",
     "text": [
      "Train Set\n",
      "                Label                                               Text\n",
      "14500   narendramodi  here is a newsletter covering my visits to kan...\n",
      "56217   sherryrehman  great turnout for lunch at pak embassy in dc t...\n",
      "51809   sherryrehman   isis just one mile from baghdad as al qaeda f...\n",
      "46050  maryamnsharif   so the govt happily goes for re elections on ...\n",
      "61615  fawadchaudhry   p rasheed kafir hai tou all anti taliban s ar...\n",
      "...              ...                                                ...\n",
      "14396   narendramodi  may these festivals bring abundance of happine...\n",
      "21473   narendramodi  spoke to advani ji on the phone he gave me his...\n",
      "17376   narendramodi  the overwhelming response along with a lot of ...\n",
      "51500   sherryrehman  pleasure wish we could have chatted some next ...\n",
      "12980   narendramodi  good to see you wield the broom and spread a s...\n",
      "\n",
      "[46996 rows x 2 columns]\n",
      "Val Set\n",
      "                Label                                               Text\n",
      "2810    imrankhanpti  quaid was known for his integrity selflessness...\n",
      "47290   sherryrehman  a case in point is urdu university and it s mu...\n",
      "48437   sherryrehman  pakistan finally takes cavil with the trump ad...\n",
      "3782    imrankhanpti  strongly condemn target killings acts of terro...\n",
      "61163  fawadchaudhry  local alliances do happen don t knw why my frn...\n",
      "...              ...                                                ...\n",
      "56783     marvimemon  jiss nai nokri kii phir nakhra tau allowed nah...\n",
      "69043  fawadchaudhry  idher udher ki na baat ker yeah bata k kafila ...\n",
      "68630  fawadchaudhry  even baber awan can get date from sc bt pm of ...\n",
      "18771   narendramodi  good effort by laila shah her friends towards ...\n",
      "20313   narendramodi  congress made several promises but did not ful...\n",
      "\n",
      "[8294 rows x 2 columns]\n",
      "Test Set\n",
      "                Label                                               Text\n",
      "34041   mjibrannasir  politicians are defamed for taking money from ...\n",
      "43941  maryamnsharif  jeete rahain haha good i like it jeete rahe if...\n",
      "28004   mjibrannasir   pakistan will be free in real terms when our ...\n",
      "53600   sherryrehman   why what did u call the swat operation or the...\n",
      "41629  maryamnsharif  #pmln will keep its traditions alive and ensur...\n",
      "...              ...                                                ...\n",
      "47532   sherryrehman  meanwhile in the uk total chaos over the lates...\n",
      "54147   sherryrehman   agree we need to secure our cities and villag...\n",
      "57780     marvimemon  every pakistani who has the means to is trying...\n",
      "47981   sherryrehman  congratulations your win is a win for a changi...\n",
      "11308   narendramodi  held talks with president halimah yacob at the...\n",
      "\n",
      "[13823 rows x 2 columns]\n"
     ]
    }
   ],
   "source": [
    "train_set.to_csv(PROCESSED_PATH + 'train.csv', index=False, columns=['Label', 'Text'])\n",
    "print('Train Set\\n',train_set)\n",
    "\n",
    "val_set.to_csv(PROCESSED_PATH + 'val.csv', index=False, columns=['Label', 'Text'])\n",
    "print('Val Set\\n',val_set)\n",
    "\n",
    "test_set.to_csv(PROCESSED_PATH + 'test.csv', index=False, columns=['Label', 'Text'])\n",
    "print('Test Set\\n',test_set)"
   ]
  },
  {
   "cell_type": "code",
   "execution_count": null,
   "metadata": {},
   "outputs": [],
   "source": []
  }
 ],
 "metadata": {
  "kernelspec": {
   "display_name": "Python 3",
   "language": "python",
   "name": "python3"
  },
  "language_info": {
   "codemirror_mode": {
    "name": "ipython",
    "version": 3
   },
   "file_extension": ".py",
   "mimetype": "text/x-python",
   "name": "python",
   "nbconvert_exporter": "python",
   "pygments_lexer": "ipython3",
   "version": "3.7.6"
  }
 },
 "nbformat": 4,
 "nbformat_minor": 4
}
