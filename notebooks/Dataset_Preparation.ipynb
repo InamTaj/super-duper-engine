{
 "cells": [
  {
   "cell_type": "markdown",
   "metadata": {},
   "source": [
    "# Dataset Preparation"
   ]
  },
  {
   "cell_type": "markdown",
   "metadata": {},
   "source": [
    "## Imports"
   ]
  },
  {
   "cell_type": "code",
   "execution_count": 8,
   "metadata": {
    "ExecuteTime": {
     "end_time": "2020-05-18T08:05:24.252494Z",
     "start_time": "2020-05-18T08:05:24.243938Z"
    }
   },
   "outputs": [],
   "source": [
    "import os, glob, re\n",
    "import pandas as pd\n",
    "from tensorflow.keras.preprocessing.text import Tokenizer\n",
    "from sklearn.model_selection import train_test_split"
   ]
  },
  {
   "cell_type": "markdown",
   "metadata": {},
   "source": [
    "## Constants"
   ]
  },
  {
   "cell_type": "code",
   "execution_count": 9,
   "metadata": {
    "ExecuteTime": {
     "end_time": "2020-05-18T08:05:24.264282Z",
     "start_time": "2020-05-18T08:05:24.255158Z"
    }
   },
   "outputs": [],
   "source": [
    "# constants\n",
    "MIN_LENGTH = 80\n",
    "\n",
    "DATASET_PREFIX = '../dataset/'\n",
    "ENGLISH_PATH = DATASET_PREFIX + '1_english/'\n",
    "URLS_MENTIONS_REMOVED_PATH = DATASET_PREFIX + '2_filtered_urls_mentions/'\n",
    "MIN_LENGTH_PATH = DATASET_PREFIX + '3_length_greater_than_{0}/'.format(MIN_LENGTH)\n",
    "STOPWORDS_PATH = DATASET_PREFIX + '4_no-stopword/'\n",
    "NONROMAN_PATH = DATASET_PREFIX + '5_non-roman/'\n",
    "PREPROCESSED_PATH = DATASET_PREFIX + '6_pre-processed/'\n",
    "PROCESSED_PATH = DATASET_PREFIX + '7_processed/'"
   ]
  },
  {
   "cell_type": "markdown",
   "metadata": {},
   "source": [
    "## Load Data"
   ]
  },
  {
   "cell_type": "code",
   "execution_count": 10,
   "metadata": {
    "ExecuteTime": {
     "end_time": "2020-05-18T08:05:24.277410Z",
     "start_time": "2020-05-18T08:05:24.269052Z"
    }
   },
   "outputs": [],
   "source": [
    "def get_file_pairs(files_dir):\n",
    "    files = glob.glob(files_dir + '*.csv')\n",
    "    file_pairs = []\n",
    "\n",
    "    for each in files:\n",
    "        file_name = each.split('/')[-1:][0]\n",
    "\n",
    "        dF = pd.read_csv(each, usecols=['Text'])\n",
    "        dF['Text'] = dF['Text'].astype('str')\n",
    "        file_pairs.append((file_name, dF))\n",
    "        print('filename: {0}'.format(each))\n",
    "        print('size:     {0}'.format(dF.size))\n",
    "        print('----------------------------------------------------\\n')\n",
    "    \n",
    "    return file_pairs"
   ]
  },
  {
   "cell_type": "markdown",
   "metadata": {},
   "source": [
    "## Filter out URLs and @ Mentions"
   ]
  },
  {
   "cell_type": "code",
   "execution_count": 11,
   "metadata": {
    "ExecuteTime": {
     "end_time": "2020-05-18T08:05:24.648521Z",
     "start_time": "2020-05-18T08:05:24.280461Z"
    }
   },
   "outputs": [
    {
     "name": "stdout",
     "output_type": "stream",
     "text": [
      "filename: ../dataset/1_english/narendramodi.csv\n",
      "size:     20173\n",
      "----------------------------------------------------\n",
      "\n",
      "filename: ../dataset/1_english/mjibrannasir.csv\n",
      "size:     19275\n",
      "----------------------------------------------------\n",
      "\n",
      "filename: ../dataset/1_english/maryamnsharif.csv\n",
      "size:     27681\n",
      "----------------------------------------------------\n",
      "\n",
      "filename: ../dataset/1_english/sherryrehman.csv\n",
      "size:     18469\n",
      "----------------------------------------------------\n",
      "\n",
      "filename: ../dataset/1_english/fawadchaudhry.csv\n",
      "size:     23525\n",
      "----------------------------------------------------\n",
      "\n"
     ]
    }
   ],
   "source": [
    "english_file_pairs = get_file_pairs(ENGLISH_PATH)"
   ]
  },
  {
   "cell_type": "code",
   "execution_count": 12,
   "metadata": {
    "ExecuteTime": {
     "end_time": "2020-05-18T08:05:26.236563Z",
     "start_time": "2020-05-18T08:05:24.657096Z"
    }
   },
   "outputs": [
    {
     "name": "stdout",
     "output_type": "stream",
     "text": [
      "                                                    Text\n",
      "0      Ramzan Mubarak! I pray for everyone’s safety, ...\n",
      "1      Best wishes to Goa CM   Ji on his birthday. Ma...\n",
      "2      Today’s discussion with Panchayat Sarpanchs wa...\n",
      "3      Interacting with Sarpanchs across the country ...\n",
      "4      Some of the steps taken to help the most vulne...\n",
      "...                                                  ...\n",
      "20168  Narendrabhai Modi: Through water conservation ...\n",
      "20169  Women would play a crucial role in the develop...\n",
      "20170  Most awaited gujarati version of www.narendram...\n",
      "20171  An inspiring address to Scouts & Guides in Jam...\n",
      "20172  2nd Feb, I will be in Dahod for Gujarat Swarni...\n",
      "\n",
      "[20173 rows x 1 columns] \n",
      "----------------------------------------------------\n",
      "                                                    Text\n",
      "0      When someone propagates and enforces ill infor...\n",
      "1      Tonight as our   and   teams deliver ration to...\n",
      "2      Alhumdulillah more than 5000+ families served ...\n",
      "3      So far whatever has been done in Pakistan to c...\n",
      "4      The Plan agreed between Govt and Ulema simply ...\n",
      "...                                                  ...\n",
      "19270  Omg! Omg! Omg! The Pepsi wali aunty is back wi...\n",
      "19271  We are going shopping tomorrow because Altaf b...\n",
      "19272  It was a small toast to life and possibilities...\n",
      "19273  I am sorry Ray Romano but in Pakistan, \"Everyb...\n",
      "19274  The only Pakistani leaders in (self) exile are...\n",
      "\n",
      "[19275 rows x 1 columns] \n",
      "----------------------------------------------------\n",
      "                                                    Text\n",
      "0      Mankind has not known a bigger sacrifice than ...\n",
      "1                                         #NewProfilePic\n",
      "2      Fervent prayers for his beloved nation from Mo...\n",
      "3      Heartfelt condolences to the families of those...\n",
      "4      Pakistan is facing one of the gravest crises i...\n",
      "...                                                  ...\n",
      "27676  Nawaz Sharif in Baluchistan today. Hope he suc...\n",
      "27677               Mariam Nawaz visits LAHORE College  \n",
      "27678     Maryam Nawaz - Future of pakistan's politics  \n",
      "27679               Maryam Nawaz Sharif Talks to Media  \n",
      "27680  Maryam Nawaz Sharif Talks to Media about her P...\n",
      "\n",
      "[27681 rows x 1 columns] \n",
      "----------------------------------------------------\n",
      "                                                    Text\n",
      "0                                    What a lovely story\n",
      "1             Lovely to see you two out there #diplomile\n",
      "2      And what about talking to Iran, which has a co...\n",
      "3      Criminal indeed to cut off communications duri...\n",
      "4                                                Whoa...\n",
      "...                                                  ...\n",
      "18464  Yes, the CJ should take suo moto notice of Sal...\n",
      "18465                                                   \n",
      "18466  Dear All, none of the FB accts in my name is m...\n",
      "18467  A special thank you to all those who have welc...\n",
      "18468  The battle for reclaiming Jinnah's Pakistan co...\n",
      "\n",
      "[18469 rows x 1 columns] \n",
      "----------------------------------------------------\n",
      "                                                    Text\n",
      "0      This shameless admission by frmr Indian Mily o...\n",
      "1      Thank you for standing up for truth #Kashmir #...\n",
      "2                                     Legend #AhmadFaraz\n",
      "3      Combating coronavirus: Made-in-Pakistan medica...\n",
      "4      Truly a remarkable decison by Cabinet to allow...\n",
      "...                                                  ...\n",
      "23520                           Gng back to lhr from isl\n",
      "23521          Gng for lunch somewhere in gulberg ll see\n",
      "23522     Just had a long discussion with president mush\n",
      "23523                                Lazy lamhay at home\n",
      "23524                      going to Royal palm for lunch\n",
      "\n",
      "[23525 rows x 1 columns] \n",
      "----------------------------------------------------\n"
     ]
    }
   ],
   "source": [
    "# URLS_REMOVED_PATH\n",
    "regex_urls = r'(https?://.+\\b\\/?|.{3}\\.twitter.+\\b)'\n",
    "regex_mentions = r'@\\w+'\n",
    "regex = re.compile(regex_urls)\n",
    "\n",
    "if not os.path.exists(URLS_MENTIONS_REMOVED_PATH):\n",
    "    os.makedirs(URLS_MENTIONS_REMOVED_PATH)\n",
    "\n",
    "for each in english_file_pairs:\n",
    "    filename = each[0]\n",
    "    dF = each[1].copy()\n",
    "    output_file = URLS_MENTIONS_REMOVED_PATH + filename\n",
    "\n",
    "    # remove URLs\n",
    "    dF.Text = dF.apply(lambda x: x.str.replace(regex_urls, ' '))\n",
    "    # remove mentions\n",
    "    dF.Text = dF.apply(lambda x: x.str.replace(regex_mentions, ' '))\n",
    "    # save\n",
    "    dF.to_csv(output_file, index=False, columns=['Text'])\n",
    "    print(dF, '\\n----------------------------------------------------')    "
   ]
  },
  {
   "cell_type": "markdown",
   "metadata": {},
   "source": [
    "## Filter for MIN_LENGTH"
   ]
  },
  {
   "cell_type": "code",
   "execution_count": 13,
   "metadata": {
    "ExecuteTime": {
     "end_time": "2020-05-18T08:05:26.467326Z",
     "start_time": "2020-05-18T08:05:26.238077Z"
    }
   },
   "outputs": [
    {
     "name": "stdout",
     "output_type": "stream",
     "text": [
      "filename: ../dataset/2_filtered_urls_mentions/narendramodi.csv\n",
      "size:     20170\n",
      "----------------------------------------------------\n",
      "\n",
      "filename: ../dataset/2_filtered_urls_mentions/mjibrannasir.csv\n",
      "size:     19206\n",
      "----------------------------------------------------\n",
      "\n",
      "filename: ../dataset/2_filtered_urls_mentions/maryamnsharif.csv\n",
      "size:     27460\n",
      "----------------------------------------------------\n",
      "\n",
      "filename: ../dataset/2_filtered_urls_mentions/sherryrehman.csv\n",
      "size:     18218\n",
      "----------------------------------------------------\n",
      "\n",
      "filename: ../dataset/2_filtered_urls_mentions/fawadchaudhry.csv\n",
      "size:     23349\n",
      "----------------------------------------------------\n",
      "\n"
     ]
    }
   ],
   "source": [
    "url_filtered_file_pairs = get_file_pairs(URLS_MENTIONS_REMOVED_PATH)"
   ]
  },
  {
   "cell_type": "code",
   "execution_count": 14,
   "metadata": {
    "ExecuteTime": {
     "end_time": "2020-05-18T08:05:26.971127Z",
     "start_time": "2020-05-18T08:05:26.471048Z"
    },
    "scrolled": true
   },
   "outputs": [
    {
     "name": "stdout",
     "output_type": "stream",
     "text": [
      "../dataset/3_length_greater_than_80/narendramodi.csv\n",
      "                                                    Text\n",
      "0      Ramzan Mubarak! I pray for everyone’s safety, ...\n",
      "1      Best wishes to Goa CM   Ji on his birthday. Ma...\n",
      "2      Today’s discussion with Panchayat Sarpanchs wa...\n",
      "3      Interacting with Sarpanchs across the country ...\n",
      "5      Exchanged views on the COVID-19 pandemic with ...\n",
      "...                                                  ...\n",
      "20161  How to Tackle Terrorism? Listen mind-blowing a...\n",
      "20162    Thank you very much for appreciating the web...\n",
      "20165  Narendrabhai Modi: Through water conservation ...\n",
      "20167  Most awaited gujarati version of www.narendram...\n",
      "20168  An inspiring address to Scouts & Guides in Jam...\n",
      "\n",
      "[16459 rows x 1 columns] \n",
      "----------------------------------------------------\n",
      "../dataset/3_length_greater_than_80/mjibrannasir.csv\n",
      "                                                    Text\n",
      "0      When someone propagates and enforces ill infor...\n",
      "1      Tonight as our   and   teams deliver ration to...\n",
      "2      Alhumdulillah more than 5000+ families served ...\n",
      "3      So far whatever has been done in Pakistan to c...\n",
      "4      The Plan agreed between Govt and Ulema simply ...\n",
      "...                                                  ...\n",
      "19195  Imran Khan why do u sit out every time the nat...\n",
      "19197  Your custom mix special sheesha, waheed's kaba...\n",
      "19198  Watching an English county match. Azhar mehmoo...\n",
      "19201  Omg! Omg! Omg! The Pepsi wali aunty is back wi...\n",
      "19205  The only Pakistani leaders in (self) exile are...\n",
      "\n",
      "[13284 rows x 1 columns] \n",
      "----------------------------------------------------\n",
      "../dataset/3_length_greater_than_80/maryamnsharif.csv\n",
      "                                                    Text\n",
      "0      Mankind has not known a bigger sacrifice than ...\n",
      "2      Fervent prayers for his beloved nation from Mo...\n",
      "3      Heartfelt condolences to the families of those...\n",
      "4      Pakistan is facing one of the gravest crises i...\n",
      "7      Another PML-N member arrested. This is their r...\n",
      "...                                                  ...\n",
      "27448  Before hurling blames at others just remember,...\n",
      "27449  \" :   how can you not be ashamed of a tainted ...\n",
      "27450  Zardari Sb u parried the most pertinent & burn...\n",
      "27451    I shall stand by my people, with my ppl in t...\n",
      "27455  Nawaz Sharif in Baluchistan today. Hope he suc...\n",
      "\n",
      "[10942 rows x 1 columns] \n",
      "----------------------------------------------------\n",
      "../dataset/3_length_greater_than_80/sherryrehman.csv\n",
      "                                                    Text\n",
      "2      And what about talking to Iran, which has a co...\n",
      "3      Criminal indeed to cut off communications duri...\n",
      "5      Please stay strong. They probably have limited...\n",
      "7      Horror stories on overseas Pakistanis left str...\n",
      "12     Will Covid-19 reshape Afghan peace? The conven...\n",
      "...                                                  ...\n",
      "18211  Our anchors should be hosting experts on joint...\n",
      "18214  Yes, the CJ should take suo moto notice of Sal...\n",
      "18215  Dear All, none of the FB accts in my name is m...\n",
      "18216  A special thank you to all those who have welc...\n",
      "18217  The battle for reclaiming Jinnah's Pakistan co...\n",
      "\n",
      "[10633 rows x 1 columns] \n",
      "----------------------------------------------------\n",
      "../dataset/3_length_greater_than_80/fawadchaudhry.csv\n",
      "                                                    Text\n",
      "0      This shameless admission by frmr Indian Mily o...\n",
      "3      Combating coronavirus: Made-in-Pakistan medica...\n",
      "4      Truly a remarkable decison by Cabinet to allow...\n",
      "5      So grateful   endorsement from an expert like ...\n",
      "6      Thankyou   for hosting   event, and that too i...\n",
      "...                                                  ...\n",
      "23333  future of pakistan is to follow sufi tradition...\n",
      "23334  now naval base attacked....dont remember what ...\n",
      "23335  Our Establishments policy of inflaming hatred ...\n",
      "23336  In the heat of dubai thinking whats biiger vio...\n",
      "23337  seems the favorite pass game in islamabad is b...\n",
      "\n",
      "[10260 rows x 1 columns] \n",
      "----------------------------------------------------\n"
     ]
    }
   ],
   "source": [
    "if not os.path.exists(MIN_LENGTH_PATH):\n",
    "    os.makedirs(MIN_LENGTH_PATH)\n",
    "\n",
    "\n",
    "for each in url_filtered_file_pairs:\n",
    "    filename = each[0]\n",
    "    dF = each[1].copy()\n",
    "    output_file = MIN_LENGTH_PATH + filename\n",
    "    print(output_file)\n",
    "\n",
    "    dF = dF[ dF['Text'].str.len() > MIN_LENGTH]\n",
    "    \n",
    "    # save\n",
    "    dF.to_csv(output_file, index=False, columns=['Text'])\n",
    "\n",
    "    print(dF, '\\n----------------------------------------------------')"
   ]
  },
  {
   "cell_type": "markdown",
   "metadata": {},
   "source": [
    "## Stopword Removal"
   ]
  },
  {
   "cell_type": "code",
   "execution_count": 15,
   "metadata": {
    "ExecuteTime": {
     "end_time": "2020-05-18T08:05:26.984607Z",
     "start_time": "2020-05-18T08:05:26.974242Z"
    }
   },
   "outputs": [],
   "source": [
    "# import nltk\n",
    "# from nltk.corpus import stopwords\n",
    "# nltk.download('stopwords')"
   ]
  },
  {
   "cell_type": "code",
   "execution_count": 16,
   "metadata": {
    "ExecuteTime": {
     "end_time": "2020-05-18T08:05:27.007140Z",
     "start_time": "2020-05-18T08:05:27.003171Z"
    }
   },
   "outputs": [],
   "source": [
    "# min_length_file_pairs = get_file_pairs(MIN_LENGTH_PATH)"
   ]
  },
  {
   "cell_type": "code",
   "execution_count": 17,
   "metadata": {
    "ExecuteTime": {
     "end_time": "2020-05-18T08:05:27.022605Z",
     "start_time": "2020-05-18T08:05:27.019981Z"
    }
   },
   "outputs": [],
   "source": [
    "# if not os.path.exists(STOPWORDS_PATH):\n",
    "#     os.makedirs(STOPWORDS_PATH)\n",
    "\n",
    "# STOP_WORDS = stopwords.words('english')\n",
    "# print('STOP_WORDS', STOP_WORDS)\n",
    "    \n",
    "# def remove_stopwords(texts):\n",
    "#     new_texts = []\n",
    "#     for tx in texts:\n",
    "#         splitted = tx.lower().split(' ')\n",
    "#         removed = [word for word in splitted if not word in STOP_WORDS]\n",
    "#         removed = ' '.join(removed)\n",
    "#         new_texts.append(removed)\n",
    "#     return new_texts\n",
    "\n",
    "# for each in min_length_file_pairs:\n",
    "#     filename = each[0]\n",
    "#     dF = each[1].copy()\n",
    "#     output_file = STOPWORDS_PATH + filename\n",
    "#     print('output_file', output_file)\n",
    "\n",
    "#     # remove all stop_words\n",
    "#     dF.Text = remove_stopwords(dF.Text)\n",
    "\n",
    "#     # save\n",
    "#     dF.to_csv(output_file, index=False, columns=['Text'])\n",
    "\n",
    "#     print(dF, '\\n----------------------------------------------------')"
   ]
  },
  {
   "cell_type": "markdown",
   "metadata": {},
   "source": [
    "## Roman English Removal\n",
    "> Removes roman english tweets"
   ]
  },
  {
   "cell_type": "code",
   "execution_count": 18,
   "metadata": {
    "ExecuteTime": {
     "end_time": "2020-05-18T08:05:27.243957Z",
     "start_time": "2020-05-18T08:05:27.024814Z"
    }
   },
   "outputs": [],
   "source": [
    "from enchant.checker import SpellChecker"
   ]
  },
  {
   "cell_type": "code",
   "execution_count": 19,
   "metadata": {
    "ExecuteTime": {
     "end_time": "2020-05-18T08:05:27.405800Z",
     "start_time": "2020-05-18T08:05:27.245891Z"
    }
   },
   "outputs": [
    {
     "name": "stdout",
     "output_type": "stream",
     "text": [
      "filename: ../dataset/3_length_greater_than_80/narendramodi.csv\n",
      "size:     16459\n",
      "----------------------------------------------------\n",
      "\n",
      "filename: ../dataset/3_length_greater_than_80/mjibrannasir.csv\n",
      "size:     13284\n",
      "----------------------------------------------------\n",
      "\n",
      "filename: ../dataset/3_length_greater_than_80/maryamnsharif.csv\n",
      "size:     10942\n",
      "----------------------------------------------------\n",
      "\n",
      "filename: ../dataset/3_length_greater_than_80/sherryrehman.csv\n",
      "size:     10633\n",
      "----------------------------------------------------\n",
      "\n",
      "filename: ../dataset/3_length_greater_than_80/fawadchaudhry.csv\n",
      "size:     10260\n",
      "----------------------------------------------------\n",
      "\n"
     ]
    }
   ],
   "source": [
    "minlength_file_pairs = get_file_pairs(MIN_LENGTH_PATH)"
   ]
  },
  {
   "cell_type": "code",
   "execution_count": 20,
   "metadata": {
    "ExecuteTime": {
     "end_time": "2020-05-18T08:06:19.472687Z",
     "start_time": "2020-05-18T08:05:27.407987Z"
    }
   },
   "outputs": [
    {
     "name": "stdout",
     "output_type": "stream",
     "text": [
      "output_file ../dataset/5_non-roman/narendramodi.csv\n",
      "                                                    Text\n",
      "0      Ramzan Mubarak! I pray for everyone’s safety, ...\n",
      "1      Best wishes to Goa CM   Ji on his birthday. Ma...\n",
      "2      Today’s discussion with Panchayat Sarpanchs wa...\n",
      "3      Interacting with Sarpanchs across the country ...\n",
      "4      Exchanged views on the COVID-19 pandemic with ...\n",
      "...                                                  ...\n",
      "16388  How to Tackle Terrorism? Listen mind-blowing a...\n",
      "16389    Thank you very much for appreciating the web...\n",
      "16390  Narendrabhai Modi: Through water conservation ...\n",
      "16391  Most awaited gujarati version of www.narendram...\n",
      "16392  An inspiring address to Scouts & Guides in Jam...\n",
      "\n",
      "[16393 rows x 1 columns] \n",
      "----------------------------------------------------\n",
      "output_file ../dataset/5_non-roman/mjibrannasir.csv\n",
      "                                                    Text\n",
      "0      When someone propagates and enforces ill infor...\n",
      "1      Tonight as our   and   teams deliver ration to...\n",
      "2      Alhumdulillah more than 5000+ families served ...\n",
      "3      So far whatever has been done in Pakistan to c...\n",
      "4      The Plan agreed between Govt and Ulema simply ...\n",
      "...                                                  ...\n",
      "12332  Imran Khan why do u sit out every time the nat...\n",
      "12333  Your custom mix special sheesha, waheed's kaba...\n",
      "12334  Watching an English county match. Azhar mehmoo...\n",
      "12335  Omg! Omg! Omg! The Pepsi wali aunty is back wi...\n",
      "12336  The only Pakistani leaders in (self) exile are...\n",
      "\n",
      "[12337 rows x 1 columns] \n",
      "----------------------------------------------------\n",
      "output_file ../dataset/5_non-roman/maryamnsharif.csv\n",
      "                                                    Text\n",
      "0      Mankind has not known a bigger sacrifice than ...\n",
      "1      Fervent prayers for his beloved nation from Mo...\n",
      "2      Heartfelt condolences to the families of those...\n",
      "3      Pakistan is facing one of the gravest crises i...\n",
      "4      Another PML-N member arrested. This is their r...\n",
      "...                                                  ...\n",
      "10485  Before hurling blames at others just remember,...\n",
      "10486  \" :   how can you not be ashamed of a tainted ...\n",
      "10487  Zardari Sb u parried the most pertinent & burn...\n",
      "10488    I shall stand by my people, with my ppl in t...\n",
      "10489  Nawaz Sharif in Baluchistan today. Hope he suc...\n",
      "\n",
      "[10490 rows x 1 columns] \n",
      "----------------------------------------------------\n",
      "output_file ../dataset/5_non-roman/sherryrehman.csv\n",
      "                                                    Text\n",
      "0      And what about talking to Iran, which has a co...\n",
      "1      Criminal indeed to cut off communications duri...\n",
      "2      Please stay strong. They probably have limited...\n",
      "3      Horror stories on overseas Pakistanis left str...\n",
      "4      Will Covid-19 reshape Afghan peace? The conven...\n",
      "...                                                  ...\n",
      "10586  Our anchors should be hosting experts on joint...\n",
      "10587  Yes, the CJ should take suo moto notice of Sal...\n",
      "10588  Dear All, none of the FB accts in my name is m...\n",
      "10589  A special thank you to all those who have welc...\n",
      "10590  The battle for reclaiming Jinnah's Pakistan co...\n",
      "\n",
      "[10591 rows x 1 columns] \n",
      "----------------------------------------------------\n",
      "output_file ../dataset/5_non-roman/fawadchaudhry.csv\n",
      "                                                   Text\n",
      "0     This shameless admission by frmr Indian Mily o...\n",
      "1     Combating coronavirus: Made-in-Pakistan medica...\n",
      "2     Truly a remarkable decison by Cabinet to allow...\n",
      "3     So grateful   endorsement from an expert like ...\n",
      "4     Thankyou   for hosting   event, and that too i...\n",
      "...                                                 ...\n",
      "8862  future of pakistan is to follow sufi tradition...\n",
      "8863  now naval base attacked....dont remember what ...\n",
      "8864  Our Establishments policy of inflaming hatred ...\n",
      "8865  In the heat of dubai thinking whats biiger vio...\n",
      "8866  seems the favorite pass game in islamabad is b...\n",
      "\n",
      "[8867 rows x 1 columns] \n",
      "----------------------------------------------------\n"
     ]
    }
   ],
   "source": [
    "if not os.path.exists(NONROMAN_PATH):\n",
    "    os.makedirs(NONROMAN_PATH)\n",
    "\n",
    "\n",
    "ROMAN_THRESHOLD = .5\n",
    "\n",
    "def remove_romans(texts):\n",
    "    \"\"\"\n",
    "    Check if 50% of each sentence has valid english words\n",
    "    \"\"\"\n",
    "    new_texts = []\n",
    "    d = SpellChecker(\"en_US\")\n",
    "    \n",
    "    for quote in texts:      \n",
    "        d.set_text(quote)\n",
    "        errors = [err.word for err in d]\n",
    "        target_length = len(quote.split()) * ROMAN_THRESHOLD\n",
    "        if len(errors) <= target_length:\n",
    "            new_texts.append(quote)\n",
    "\n",
    "    return pd.DataFrame({'Text': new_texts})\n",
    "\n",
    "for each in minlength_file_pairs:\n",
    "    filename = each[0]\n",
    "    dF = each[1].copy()\n",
    "    output_file = NONROMAN_PATH + filename\n",
    "    print('output_file', output_file)\n",
    "\n",
    "    # filter sentences that have more than 50% non-english content\n",
    "    dF = remove_romans(dF.Text)\n",
    "\n",
    "    # save\n",
    "    dF.to_csv(output_file, index=False, columns=['Text'])\n",
    "\n",
    "    print(dF, '\\n----------------------------------------------------')"
   ]
  },
  {
   "cell_type": "markdown",
   "metadata": {},
   "source": [
    "## Prepare Dataset\n",
    "- change case to smaller-case\n",
    "- remove punctuation\n",
    "- replace multiple consecutive spaces with single space\n",
    "- filter for MIN_LENGTH\n",
    "- add class labels"
   ]
  },
  {
   "cell_type": "code",
   "execution_count": 21,
   "metadata": {
    "ExecuteTime": {
     "end_time": "2020-05-18T08:06:19.575619Z",
     "start_time": "2020-05-18T08:06:19.475158Z"
    }
   },
   "outputs": [
    {
     "name": "stdout",
     "output_type": "stream",
     "text": [
      "filename: ../dataset/5_non-roman/narendramodi.csv\n",
      "size:     16393\n",
      "----------------------------------------------------\n",
      "\n",
      "filename: ../dataset/5_non-roman/mjibrannasir.csv\n",
      "size:     12337\n",
      "----------------------------------------------------\n",
      "\n",
      "filename: ../dataset/5_non-roman/maryamnsharif.csv\n",
      "size:     10490\n",
      "----------------------------------------------------\n",
      "\n",
      "filename: ../dataset/5_non-roman/sherryrehman.csv\n",
      "size:     10591\n",
      "----------------------------------------------------\n",
      "\n",
      "filename: ../dataset/5_non-roman/fawadchaudhry.csv\n",
      "size:     8867\n",
      "----------------------------------------------------\n",
      "\n"
     ]
    }
   ],
   "source": [
    "file_pairs = get_file_pairs(NONROMAN_PATH)"
   ]
  },
  {
   "cell_type": "code",
   "execution_count": 22,
   "metadata": {
    "ExecuteTime": {
     "end_time": "2020-05-18T08:06:21.098760Z",
     "start_time": "2020-05-18T08:06:19.578105Z"
    }
   },
   "outputs": [
    {
     "name": "stdout",
     "output_type": "stream",
     "text": [
      "                                                    Text         Label\n",
      "0      ramzan mubarak i pray for everyones safety wel...  narendramodi\n",
      "1      best wishes to goa cm ji on his birthday may h...  narendramodi\n",
      "2      todays discussion with panchayat sarpanchs was...  narendramodi\n",
      "3      interacting with sarpanchs across the country ...  narendramodi\n",
      "4      exchanged views on the covid19 pandemic with p...  narendramodi\n",
      "...                                                  ...           ...\n",
      "16388  how to tackle terrorism listen mindblowing aud...  narendramodi\n",
      "16389   thank you very much for appreciating the webs...  narendramodi\n",
      "16390  narendrabhai modi through water conservation m...  narendramodi\n",
      "16391  most awaited gujarati version of wwwnarendramo...  narendramodi\n",
      "16392  an inspiring address to scouts guides in jambo...  narendramodi\n",
      "\n",
      "[16130 rows x 2 columns]\n",
      "                                                    Text         Label\n",
      "0      when someone propagates and enforces ill infor...  mjibrannasir\n",
      "1      tonight as our and teams deliver ration to our...  mjibrannasir\n",
      "2      alhumdulillah more than 5000 families served b...  mjibrannasir\n",
      "3      so far whatever has been done in pakistan to c...  mjibrannasir\n",
      "4      the plan agreed between govt and ulema simply ...  mjibrannasir\n",
      "...                                                  ...           ...\n",
      "12331  post midnight saw homeless kids sleeping next ...  mjibrannasir\n",
      "12332  imran khan why do u sit out every time the nat...  mjibrannasir\n",
      "12333  your custom mix special sheesha waheeds kabab ...  mjibrannasir\n",
      "12335  omg omg omg the pepsi wali aunty is back with ...  mjibrannasir\n",
      "12336  the only pakistani leaders in self exile are p...  mjibrannasir\n",
      "\n",
      "[12026 rows x 2 columns]\n",
      "                                                    Text          Label\n",
      "0      mankind has not known a bigger sacrifice than ...  maryamnsharif\n",
      "1      fervent prayers for his beloved nation from mo...  maryamnsharif\n",
      "2      heartfelt condolences to the families of those...  maryamnsharif\n",
      "3      pakistan is facing one of the gravest crises i...  maryamnsharif\n",
      "4      another pmln member arrested this is their res...  maryamnsharif\n",
      "...                                                  ...            ...\n",
      "10485  before hurling blames at others just remember ...  maryamnsharif\n",
      "10486   how can you not be ashamed of a tainted fathe...  maryamnsharif\n",
      "10487  zardari sb u parried the most pertinent burnin...  maryamnsharif\n",
      "10488   i shall stand by my people with my ppl in the...  maryamnsharif\n",
      "10489  nawaz sharif in baluchistan today hope he succ...  maryamnsharif\n",
      "\n",
      "[9336 rows x 2 columns]\n",
      "                                                    Text         Label\n",
      "0      and what about talking to iran which has a con...  sherryrehman\n",
      "1      criminal indeed to cut off communications duri...  sherryrehman\n",
      "2      please stay strong they probably have limited ...  sherryrehman\n",
      "3      horror stories on overseas pakistanis left str...  sherryrehman\n",
      "4      will covid19 reshape afghan peace the conventi...  sherryrehman\n",
      "...                                                  ...           ...\n",
      "10586  our anchors should be hosting experts on joint...  sherryrehman\n",
      "10587  yes the cj should take suo moto notice of salm...  sherryrehman\n",
      "10588  dear all none of the fb accts in my name is mi...  sherryrehman\n",
      "10589  a special thank you to all those who have welc...  sherryrehman\n",
      "10590  the battle for reclaiming jinnahs pakistan con...  sherryrehman\n",
      "\n",
      "[10089 rows x 2 columns]\n",
      "                                                   Text          Label\n",
      "0     this shameless admission by frmr indian mily o...  fawadchaudhry\n",
      "1     combating coronavirus madeinpakistan medical e...  fawadchaudhry\n",
      "2     truly a remarkable decison by cabinet to allow...  fawadchaudhry\n",
      "3     so grateful endorsement from an expert like yo...  fawadchaudhry\n",
      "4     thankyou for hosting event and that too in for...  fawadchaudhry\n",
      "...                                                 ...            ...\n",
      "8862  future of pakistan is to follow sufi tradition...  fawadchaudhry\n",
      "8863  now naval base attackeddont remember what last...  fawadchaudhry\n",
      "8864  our establishments policy of inflaming hatred ...  fawadchaudhry\n",
      "8865  in the heat of dubai thinking whats biiger vio...  fawadchaudhry\n",
      "8866  seems the favorite pass game in islamabad is b...  fawadchaudhry\n",
      "\n",
      "[8426 rows x 2 columns]\n"
     ]
    }
   ],
   "source": [
    "if not os.path.exists(PREPROCESSED_PATH):\n",
    "    os.makedirs(PREPROCESSED_PATH)\n",
    "\n",
    "for each in file_pairs:\n",
    "    file_name = each[0]\n",
    "    label = file_name.split('.csv')[0]\n",
    "    dF = each[1].copy()\n",
    "    output_file = PREPROCESSED_PATH + file_name\n",
    "\n",
    "    # convert to lower-case\n",
    "    dF.Text = dF.apply(lambda x: x.str.lower())\n",
    "    # remove punctuation\n",
    "    dF.Text = dF.apply(lambda x: x.str.replace(r\"[^a-zA-Z_\\s0-9#]\", ''))\n",
    "    # remove extra spaces\n",
    "    dF.Text = dF.apply(lambda x: x.str.replace(r'\\s{2,}', ' '))\n",
    "    # filter for len(tweets) > MIN_LENGTH x 2 to get more meaningful tweets\n",
    "    dF = dF[ dF['Text'].str.len() > MIN_LENGTH]\n",
    "\n",
    "    # add label\n",
    "    dF['Label'] = label\n",
    "\n",
    "    dF.to_csv(output_file, index=False, columns=['Label','Text'])\n",
    "    \n",
    "    print(dF)"
   ]
  },
  {
   "cell_type": "markdown",
   "metadata": {
    "ExecuteTime": {
     "end_time": "2020-05-09T08:17:55.125949Z",
     "start_time": "2020-05-09T08:17:55.121163Z"
    }
   },
   "source": [
    "### Create Dataset Files\n",
    "- single dataset file\n",
    "- split to train, test, validation sets"
   ]
  },
  {
   "cell_type": "markdown",
   "metadata": {},
   "source": [
    "#### dataset.csv"
   ]
  },
  {
   "cell_type": "code",
   "execution_count": 23,
   "metadata": {
    "ExecuteTime": {
     "end_time": "2020-05-18T08:06:21.108360Z",
     "start_time": "2020-05-18T08:06:21.100615Z"
    }
   },
   "outputs": [],
   "source": [
    "def get_prefixed_file_pairs(files_dir):\n",
    "    files = glob.glob(files_dir + '*.csv')\n",
    "    file_pairs = []\n",
    "\n",
    "    for each in files:\n",
    "        file_name = each.split('/')[-1:][0]\n",
    "\n",
    "        dF = pd.read_csv(each, usecols=['Label', 'Text'])\n",
    "        dF['Text'] = dF['Text'].astype('str')\n",
    "        file_pairs.append((file_name, dF))\n",
    "        print('filename: {0}'.format(each))\n",
    "        print('size:     {0}'.format(len(dF)))\n",
    "        print('----------------------------------------------------\\n')\n",
    "    \n",
    "    return file_pairs"
   ]
  },
  {
   "cell_type": "code",
   "execution_count": 24,
   "metadata": {
    "ExecuteTime": {
     "end_time": "2020-05-18T08:06:21.293257Z",
     "start_time": "2020-05-18T08:06:21.116321Z"
    }
   },
   "outputs": [
    {
     "name": "stdout",
     "output_type": "stream",
     "text": [
      "filename: ../dataset/6_pre-processed/narendramodi.csv\n",
      "size:     16130\n",
      "----------------------------------------------------\n",
      "\n",
      "filename: ../dataset/6_pre-processed/mjibrannasir.csv\n",
      "size:     12026\n",
      "----------------------------------------------------\n",
      "\n",
      "filename: ../dataset/6_pre-processed/maryamnsharif.csv\n",
      "size:     9336\n",
      "----------------------------------------------------\n",
      "\n",
      "filename: ../dataset/6_pre-processed/sherryrehman.csv\n",
      "size:     10089\n",
      "----------------------------------------------------\n",
      "\n",
      "filename: ../dataset/6_pre-processed/fawadchaudhry.csv\n",
      "size:     8426\n",
      "----------------------------------------------------\n",
      "\n"
     ]
    }
   ],
   "source": [
    "file_pairs = get_prefixed_file_pairs(PREPROCESSED_PATH)"
   ]
  },
  {
   "cell_type": "code",
   "execution_count": 25,
   "metadata": {
    "ExecuteTime": {
     "end_time": "2020-05-18T08:06:21.680222Z",
     "start_time": "2020-05-18T08:06:21.295030Z"
    }
   },
   "outputs": [
    {
     "name": "stdout",
     "output_type": "stream",
     "text": [
      "              Label                                               Text\n",
      "0      narendramodi  ramzan mubarak i pray for everyones safety wel...\n",
      "1      narendramodi  best wishes to goa cm ji on his birthday may h...\n",
      "2      narendramodi  todays discussion with panchayat sarpanchs was...\n",
      "3      narendramodi  interacting with sarpanchs across the country ...\n",
      "4      narendramodi  exchanged views on the covid19 pandemic with p...\n",
      "...             ...                                                ...\n",
      "8421  fawadchaudhry  future of pakistan is to follow sufi tradition...\n",
      "8422  fawadchaudhry  now naval base attackeddont remember what last...\n",
      "8423  fawadchaudhry  our establishments policy of inflaming hatred ...\n",
      "8424  fawadchaudhry  in the heat of dubai thinking whats biiger vio...\n",
      "8425  fawadchaudhry  seems the favorite pass game in islamabad is b...\n",
      "\n",
      "[56007 rows x 2 columns]\n"
     ]
    }
   ],
   "source": [
    "frames_list = []\n",
    "for each in file_pairs:\n",
    "    dF = each[1].copy()\n",
    "    frames_list.append(dF)\n",
    "\n",
    "bigDF = pd.concat(frames_list)\n",
    "\n",
    "if not os.path.exists(PROCESSED_PATH):\n",
    "    os.makedirs(PROCESSED_PATH)\n",
    "\n",
    "bigDF.to_csv(PROCESSED_PATH + 'dataset.csv', index=False, columns=['Label', 'Text'])\n",
    "\n",
    "print(bigDF)"
   ]
  },
  {
   "cell_type": "markdown",
   "metadata": {},
   "source": [
    "#### Train, Test, Val Split"
   ]
  },
  {
   "cell_type": "code",
   "execution_count": 26,
   "metadata": {
    "ExecuteTime": {
     "end_time": "2020-05-18T08:06:21.809077Z",
     "start_time": "2020-05-18T08:06:21.686447Z"
    }
   },
   "outputs": [
    {
     "name": "stdout",
     "output_type": "stream",
     "text": [
      "dataset length: 56007\n"
     ]
    }
   ],
   "source": [
    "input_file = PROCESSED_PATH + 'dataset.csv';\n",
    "datasetFrame = pd.read_csv(input_file)\n",
    "print('dataset length:', len(datasetFrame))"
   ]
  },
  {
   "cell_type": "code",
   "execution_count": 27,
   "metadata": {
    "ExecuteTime": {
     "end_time": "2020-05-18T08:06:21.851376Z",
     "start_time": "2020-05-18T08:06:21.810864Z"
    }
   },
   "outputs": [
    {
     "data": {
      "text/plain": [
       "(38084, 6721, 11202)"
      ]
     },
     "execution_count": 27,
     "metadata": {},
     "output_type": "execute_result"
    }
   ],
   "source": [
    "non_test_set, test_set = train_test_split(datasetFrame, test_size=0.2, random_state=18030010)\n",
    "train_set, val_set = train_test_split(non_test_set, test_size=0.15, random_state=18030010)\n",
    "\n",
    "len(train_set), len(val_set), len(test_set)"
   ]
  },
  {
   "cell_type": "code",
   "execution_count": 28,
   "metadata": {
    "ExecuteTime": {
     "end_time": "2020-05-18T08:06:22.171947Z",
     "start_time": "2020-05-18T08:06:21.853324Z"
    },
    "scrolled": true
   },
   "outputs": [
    {
     "name": "stdout",
     "output_type": "stream",
     "text": [
      "Train Set\n",
      "                Label                                               Text\n",
      "51567  fawadchaudhry   ppp is only option for modern pak we need to ...\n",
      "16874   mjibrannasir  to all the indian journalists and politician w...\n",
      "10842   narendramodi  budget 2015 has a distinct focus on farmers yo...\n",
      "15454   narendramodi  take one thing up do it see the end of ithe wh...\n",
      "26304   mjibrannasir  the 1st eid cakegreeting i got this year is fr...\n",
      "...              ...                                                ...\n",
      "38260   sherryrehman  one of pakistans most underappreciated monumen...\n",
      "53253  fawadchaudhry  balochistanlal mosque cases against musharraf ...\n",
      "17826   mjibrannasir  prayers for well being of #asiabibi and her fa...\n",
      "38763   sherryrehman  to the sisters of faisalabad may your virtue b...\n",
      "7058    narendramodi  spoke in the rajya sabha in reply to the motio...\n",
      "\n",
      "[38084 rows x 2 columns]\n",
      "Val Set\n",
      "                Label                                               Text\n",
      "40774   sherryrehman  the #ppp pushed hard for parliaments national ...\n",
      "15277   narendramodi  sharing my speech at release of gujarati dvd f...\n",
      "12553   narendramodi  tomorrow evening yet another round of the very...\n",
      "54175  fawadchaudhry   come on this is nt true nonmuslim pakistanis ...\n",
      "20200   mjibrannasir  us opens doors for afghan govt to reconcile wi...\n",
      "...              ...                                                ...\n",
      "49294  fawadchaudhry   so is mumbai it was pakistani fia that traced...\n",
      "41262   sherryrehman  globalisation has added to the volume and velo...\n",
      "18880   mjibrannasir  cjp has ordered collection of cnics of all 17 ...\n",
      "22052   mjibrannasir  list of passengers on board pk661 from chitral...\n",
      "25937   mjibrannasir   then one is safe amp sound inside a container...\n",
      "\n",
      "[6721 rows x 2 columns]\n",
      "Test Set\n",
      "                Label                                               Text\n",
      "48392  fawadchaudhry  imran khan has joined protestors in #parachina...\n",
      "40818   sherryrehman  good qs at the end does anybody even care the ...\n",
      "17080   mjibrannasir  additional attorney general resigns over govt ...\n",
      "49133  fawadchaudhry  thank you so much my job is to confront people...\n",
      "24077   mjibrannasir  meeting reps from un amnesty on y religious in...\n",
      "...              ...                                                ...\n",
      "33959  maryamnsharif  the blasphemous film has left us deeply hurt y...\n",
      "30746  maryamnsharif   thank u merit amp transparency would be its h...\n",
      "19862   mjibrannasir  at one end baloch council students on hunger s...\n",
      "25825   mjibrannasir   your twitter name is go nawaz go and you say ...\n",
      "30768  maryamnsharif  it is not 5billion madam how u will divide onl...\n",
      "\n",
      "[11202 rows x 2 columns]\n"
     ]
    }
   ],
   "source": [
    "train_set.to_csv(PROCESSED_PATH + 'train.csv', index=False, columns=['Label', 'Text'])\n",
    "print('Train Set\\n',train_set)\n",
    "\n",
    "val_set.to_csv(PROCESSED_PATH + 'val.csv', index=False, columns=['Label', 'Text'])\n",
    "print('Val Set\\n',val_set)\n",
    "\n",
    "test_set.to_csv(PROCESSED_PATH + 'test.csv', index=False, columns=['Label', 'Text'])\n",
    "print('Test Set\\n',test_set)"
   ]
  },
  {
   "cell_type": "markdown",
   "metadata": {},
   "source": [
    "## Final Count"
   ]
  },
  {
   "cell_type": "code",
   "execution_count": 29,
   "metadata": {
    "ExecuteTime": {
     "end_time": "2020-05-18T08:06:22.994418Z",
     "start_time": "2020-05-18T08:06:22.174229Z"
    }
   },
   "outputs": [
    {
     "data": {
      "text/plain": [
       "<matplotlib.axes._subplots.AxesSubplot at 0x146626650>"
      ]
     },
     "execution_count": 29,
     "metadata": {},
     "output_type": "execute_result"
    },
    {
     "data": {
      "image/png": "[encoded data removed]",
      "text/plain": [
       "<Figure size 432x288 with 1 Axes>"
      ]
     },
     "metadata": {
      "needs_background": "light"
     },
     "output_type": "display_data"
    }
   ],
   "source": [
    "datasetFrame.Label.value_counts().sort_values(ascending=False).plot(kind='bar', y='# of tweets', title='# of tweets per politician') "
   ]
  },
  {
   "cell_type": "markdown",
   "metadata": {},
   "source": [
    "## Fasttext Modifications"
   ]
  },
  {
   "cell_type": "code",
   "execution_count": 30,
   "metadata": {
    "ExecuteTime": {
     "end_time": "2020-05-18T08:06:23.095418Z",
     "start_time": "2020-05-18T08:06:22.997584Z"
    }
   },
   "outputs": [
    {
     "name": "stdout",
     "output_type": "stream",
     "text": [
      "dataset length: 38084 6721 11202\n"
     ]
    }
   ],
   "source": [
    "FASTTEXT_PATH = DATASET_PREFIX + '8_fasttext/'\n",
    "\n",
    "if not os.path.exists(FASTTEXT_PATH):\n",
    "    os.makedirs(FASTTEXT_PATH)\n",
    "\n",
    "TRAIN_FILE = PROCESSED_PATH + 'train.csv'\n",
    "VALDN_FILE = PROCESSED_PATH + 'val.csv'\n",
    "TEST_FILE  = PROCESSED_PATH + 'test.csv'\n",
    "\n",
    "trainFrame = pd.read_csv(TRAIN_FILE)\n",
    "valdnFrame = pd.read_csv(VALDN_FILE)\n",
    "testFrame  = pd.read_csv(TEST_FILE)\n",
    "\n",
    "print('dataset length:', len(trainFrame), len(valdnFrame), len(testFrame))"
   ]
  },
  {
   "cell_type": "code",
   "execution_count": 31,
   "metadata": {
    "ExecuteTime": {
     "end_time": "2020-05-18T08:06:23.102313Z",
     "start_time": "2020-05-18T08:06:23.098152Z"
    }
   },
   "outputs": [],
   "source": [
    "def modify_for_fasttext(dF):\n",
    "    # add __label__ prefix with labels\n",
    "    dF.Label = '__label__' + dF.Label\n",
    "    return dF"
   ]
  },
  {
   "cell_type": "code",
   "execution_count": 32,
   "metadata": {
    "ExecuteTime": {
     "end_time": "2020-05-18T08:06:23.138669Z",
     "start_time": "2020-05-18T08:06:23.107405Z"
    }
   },
   "outputs": [],
   "source": [
    "trnFrame = modify_for_fasttext(trainFrame.copy())\n",
    "valFrame = modify_for_fasttext(valdnFrame.copy())\n",
    "tstFrame = modify_for_fasttext(testFrame.copy())"
   ]
  },
  {
   "cell_type": "code",
   "execution_count": 33,
   "metadata": {
    "ExecuteTime": {
     "end_time": "2020-05-18T08:06:23.618361Z",
     "start_time": "2020-05-18T08:06:23.140872Z"
    }
   },
   "outputs": [],
   "source": [
    "trnFrame.to_csv(FASTTEXT_PATH + 'train.csv', index=False, sep=' ', \n",
    "                header=False, columns=['Label','Text'])\n",
    "valFrame.to_csv(FASTTEXT_PATH + 'val.csv', index=False, sep=' ', \n",
    "                header=False, columns=['Label','Text'])\n",
    "tstFrame.to_csv(FASTTEXT_PATH + 'test.csv', index=False, sep=' ', \n",
    "                header=False, columns=['Label','Text'])"
   ]
  },
  {
   "cell_type": "markdown",
   "metadata": {},
   "source": [
    "## Tokenization"
   ]
  },
  {
   "cell_type": "code",
   "execution_count": 35,
   "metadata": {
    "ExecuteTime": {
     "end_time": "2020-05-18T08:07:04.664274Z",
     "start_time": "2020-05-18T08:07:04.637613Z"
    }
   },
   "outputs": [],
   "source": [
    "def preprocessing(data):\n",
    "    processed = []\n",
    "    for each in data:\n",
    "        target = each\n",
    "\n",
    "        # # tokenize words\n",
    "        # target = word_tokenize(target)\n",
    "\n",
    "        # truncate sentence for MAX_SENTENCE_LENGTH\n",
    "        target = target[:100]\n",
    "\n",
    "        # finally append to processed\n",
    "        processed.append(target)\n",
    "\n",
    "    return processed\n",
    "\n",
    "processed_X = preprocessing(bigDF.Text)\n"
   ]
  },
  {
   "cell_type": "code",
   "execution_count": null,
   "metadata": {},
   "outputs": [],
   "source": []
  }
 ],
 "metadata": {
  "kernelspec": {
   "display_name": "Python 3",
   "language": "python",
   "name": "python3"
  },
  "language_info": {
   "codemirror_mode": {
    "name": "ipython",
    "version": 3
   },
   "file_extension": ".py",
   "mimetype": "text/x-python",
   "name": "python",
   "nbconvert_exporter": "python",
   "pygments_lexer": "ipython3",
   "version": "3.7.6"
  }
 },
 "nbformat": 4,
 "nbformat_minor": 4
}
