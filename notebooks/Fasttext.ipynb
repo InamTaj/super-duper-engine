{
 "cells": [
  {
   "cell_type": "markdown",
   "metadata": {},
   "source": [
    "## Fasttext"
   ]
  },
  {
   "cell_type": "code",
   "execution_count": 46,
   "metadata": {
    "ExecuteTime": {
     "end_time": "2020-05-18T07:27:42.839801Z",
     "start_time": "2020-05-18T07:27:42.834980Z"
    }
   },
   "outputs": [],
   "source": [
    "import fasttext\n",
    "import os\n",
    "import pandas as pd\n",
    "from sklearn.metrics import confusion_matrix, classification_report"
   ]
  },
  {
   "cell_type": "code",
   "execution_count": 2,
   "metadata": {
    "ExecuteTime": {
     "end_time": "2020-05-18T06:45:55.626121Z",
     "start_time": "2020-05-18T06:45:55.620026Z"
    }
   },
   "outputs": [],
   "source": [
    "DATASET_DIR = '../dataset/8_fasttext/'\n",
    "TRAIN_LIST = DATASET_DIR + 'train.csv'\n",
    "VAL_LIST = DATASET_DIR + 'val.csv'\n",
    "TEST_LIST = DATASET_DIR + 'test.csv'\n"
   ]
  },
  {
   "cell_type": "markdown",
   "metadata": {},
   "source": [
    "## Train Model\n",
    "> Uses autotune-hyperparameter option to find best model"
   ]
  },
  {
   "cell_type": "code",
   "execution_count": 4,
   "metadata": {
    "ExecuteTime": {
     "end_time": "2020-05-18T06:55:15.190374Z",
     "start_time": "2020-05-18T06:49:23.397140Z"
    }
   },
   "outputs": [],
   "source": [
    "model = fasttext.train_supervised(input=TRAIN_LIST, autotuneValidationFile=VAL_LIST, verbose=1)"
   ]
  },
  {
   "cell_type": "code",
   "execution_count": 42,
   "metadata": {
    "ExecuteTime": {
     "end_time": "2020-05-18T07:26:37.714478Z",
     "start_time": "2020-05-18T07:26:36.915785Z"
    }
   },
   "outputs": [],
   "source": [
    "dF = pd.read_csv(TEST_LIST, header=None, names=['labels', 'text'], sep=' ')\n",
    "test_labels = dF.labels\n",
    "pred_labels = []\n",
    "\n",
    "for each in dF.text:\n",
    "    pred_labels.append(model.predict(each)[0][0])"
   ]
  },
  {
   "cell_type": "code",
   "execution_count": 43,
   "metadata": {
    "ExecuteTime": {
     "end_time": "2020-05-18T07:26:37.720669Z",
     "start_time": "2020-05-18T07:26:37.716495Z"
    }
   },
   "outputs": [],
   "source": [
    "def parse_labels(path):\n",
    "    with open(path, 'r') as f:\n",
    "        return np.array(list(map(lambda x: x[9:], f.read().split())))"
   ]
  },
  {
   "cell_type": "code",
   "execution_count": 44,
   "metadata": {
    "ExecuteTime": {
     "end_time": "2020-05-18T07:26:38.543897Z",
     "start_time": "2020-05-18T07:26:38.489784Z"
    }
   },
   "outputs": [
    {
     "name": "stdout",
     "output_type": "stream",
     "text": [
      "Accuracy: 0.8585966791644349\n",
      "[[1391   52  104   19   70]\n",
      " [  56 1499  172   56  117]\n",
      " [  51   76 2061   35  160]\n",
      " [  14   45   59 3103   46]\n",
      " [  61  116  228   47 1564]]\n"
     ]
    }
   ],
   "source": [
    "eq = test_labels == pred_labels\n",
    "print(\"Accuracy: \" + str(eq.sum() / len(test_labels)))\n",
    "print(confusion_matrix(test_labels, pred_labels))"
   ]
  },
  {
   "cell_type": "code",
   "execution_count": 48,
   "metadata": {
    "ExecuteTime": {
     "end_time": "2020-05-18T07:27:52.527386Z",
     "start_time": "2020-05-18T07:27:52.283375Z"
    }
   },
   "outputs": [
    {
     "name": "stdout",
     "output_type": "stream",
     "text": [
      "                        precision    recall  f1-score   support\n",
      "\n",
      "__label__fawadchaudhry       0.88      0.85      0.87      1636\n",
      "__label__maryamnsharif       0.84      0.79      0.81      1900\n",
      " __label__mjibrannasir       0.79      0.86      0.82      2383\n",
      " __label__narendramodi       0.95      0.95      0.95      3267\n",
      " __label__sherryrehman       0.80      0.78      0.79      2016\n",
      "\n",
      "              accuracy                           0.86     11202\n",
      "             macro avg       0.85      0.85      0.85     11202\n",
      "          weighted avg       0.86      0.86      0.86     11202\n",
      "\n"
     ]
    }
   ],
   "source": [
    "print(classification_report(test_labels, pred_labels))"
   ]
  },
  {
   "cell_type": "code",
   "execution_count": null,
   "metadata": {},
   "outputs": [],
   "source": []
  }
 ],
 "metadata": {
  "kernelspec": {
   "display_name": "Python 3",
   "language": "python",
   "name": "python3"
  },
  "language_info": {
   "codemirror_mode": {
    "name": "ipython",
    "version": 3
   },
   "file_extension": ".py",
   "mimetype": "text/x-python",
   "name": "python",
   "nbconvert_exporter": "python",
   "pygments_lexer": "ipython3",
   "version": "3.7.6"
  }
 },
 "nbformat": 4,
 "nbformat_minor": 4
}
