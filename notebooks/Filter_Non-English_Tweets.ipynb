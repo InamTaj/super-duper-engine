{
 "cells": [
  {
   "cell_type": "code",
   "execution_count": null,
   "metadata": {
    "ExecuteTime": {
     "end_time": "2020-05-10T15:28:35.360223Z",
     "start_time": "2020-05-10T15:28:35.357371Z"
    }
   },
   "outputs": [],
   "source": [
    "# Import libraries\n",
    "import os\n",
    "import pandas as pd"
   ]
  },
  {
   "cell_type": "code",
   "execution_count": null,
   "metadata": {
    "ExecuteTime": {
     "end_time": "2020-05-10T15:28:35.374574Z",
     "start_time": "2020-05-10T15:28:35.365577Z"
    }
   },
   "outputs": [],
   "source": [
    "# Set options for viewing dataframes properly\n",
    "\n",
    "pd.set_option('display.max_rows', None)\n",
    "pd.set_option('display.max_columns', None)\n",
    "pd.set_option('display.width', None)\n",
    "pd.set_option('display.max_colwidth', None)"
   ]
  },
  {
   "cell_type": "code",
   "execution_count": null,
   "metadata": {
    "ExecuteTime": {
     "end_time": "2020-05-10T15:28:35.383041Z",
     "start_time": "2020-05-10T15:28:35.377315Z"
    }
   },
   "outputs": [],
   "source": [
    "# Load dataset\n",
    "\n",
    "def load_data(filename):\n",
    "    data = pd.read_csv(filename, index_col=False, usecols=['Datetime','Text'])\n",
    "    return data"
   ]
  },
  {
   "cell_type": "code",
   "execution_count": null,
   "metadata": {
    "ExecuteTime": {
     "end_time": "2020-05-10T15:28:35.611295Z",
     "start_time": "2020-05-10T15:28:35.386503Z"
    }
   },
   "outputs": [],
   "source": [
    "# Get dataframes for all politicians\n",
    "\n",
    "DATASET_PREFIX = '../dataset/raw/'\n",
    "\n",
    "df_bbhuttozardari = load_data(DATASET_PREFIX + 'bbhuttozardari-tweets.csv')\n",
    "df_ImranKhanPTI = load_data(DATASET_PREFIX + 'ImranKhanPTI-tweets.csv')\n",
    "df_MaryamNSharif = load_data(DATASET_PREFIX + 'MaryamNSharif-tweets.csv')\n",
    "df_MJibranNasir = load_data(DATASET_PREFIX + 'MJibranNasir-tweets.csv')\n",
    "df_narendramodi = load_data(DATASET_PREFIX + 'narendramodi-tweets.csv')\n",
    "df_fawadChaudhry = load_data(DATASET_PREFIX + 'fawadchaudhry-tweets.csv')"
   ]
  },
  {
   "cell_type": "code",
   "execution_count": null,
   "metadata": {
    "ExecuteTime": {
     "end_time": "2020-05-10T15:28:35.791493Z",
     "start_time": "2020-05-10T15:28:35.613837Z"
    }
   },
   "outputs": [],
   "source": [
    "# Get filtered dataframes - filtering out tweets with non-english text\n",
    "\n",
    "filtered_bbhuttozardari = df_bbhuttozardari[df_bbhuttozardari.Text.str.contains('[^A-Za-z0-9\\s\\!\\\"\\#\\$\\%\\&\\'\\(\\)\\*\\+\\,\\-\\.\\/\\:\\;\\<\\=\\>\\?\\@\\[\\]\\^\\_\\`\\{\\|\\}\\~\\’\\\\\\]') == False]\n",
    "filtered_bbhuttozardari.reset_index(drop=True, inplace=True)\n",
    "\n",
    "filtered_ImranKhanPTI = df_ImranKhanPTI[df_ImranKhanPTI.Text.str.contains('[^A-Za-z0-9\\s\\!\\\"\\#\\$\\%\\&\\'\\(\\)\\*\\+\\,\\-\\.\\/\\:\\;\\<\\=\\>\\?\\@\\[\\]\\^\\_\\`\\{\\|\\}\\~\\’\\\\\\]') == False]\n",
    "filtered_ImranKhanPTI.reset_index(drop=True, inplace=True)\n",
    "\n",
    "filtered_MaryamNSharif = df_MaryamNSharif[df_MaryamNSharif.Text.str.contains('[^A-Za-z0-9\\s\\!\\\"\\#\\$\\%\\&\\'\\(\\)\\*\\+\\,\\-\\.\\/\\:\\;\\<\\=\\>\\?\\@\\[\\]\\^\\_\\`\\{\\|\\}\\~\\’\\\\\\]') == False]\n",
    "filtered_MaryamNSharif.reset_index(drop=True, inplace=True)\n",
    "\n",
    "filtered_MJibranNasir = df_MJibranNasir[df_MJibranNasir.Text.str.contains('[^A-Za-z0-9\\s\\!\\\"\\#\\$\\%\\&\\'\\(\\)\\*\\+\\,\\-\\.\\/\\:\\;\\<\\=\\>\\?\\@\\[\\]\\^\\_\\`\\{\\|\\}\\~\\’\\\\\\]') == False]\n",
    "filtered_MJibranNasir.reset_index(drop=True, inplace=True)\n",
    "\n",
    "filtered_narendramodi = df_narendramodi[df_narendramodi.Text.str.contains('[^A-Za-z0-9\\s\\!\\\"\\#\\$\\%\\&\\'\\(\\)\\*\\+\\,\\-\\.\\/\\:\\;\\<\\=\\>\\?\\@\\[\\]\\^\\_\\`\\{\\|\\}\\~\\’\\\\\\]') == False]\n",
    "filtered_narendramodi.reset_index(drop=True, inplace=True)\n",
    "\n",
    "filtered_fawadChaudhry = df_fawadChaudhry[df_fawadChaudhry.Text.str.contains('[^A-Za-z0-9\\s\\!\\\"\\#\\$\\%\\&\\'\\(\\)\\*\\+\\,\\-\\.\\/\\:\\;\\<\\=\\>\\?\\@\\[\\]\\^\\_\\`\\{\\|\\}\\~\\’\\\\\\]') == False]\n",
    "filtered_fawadChaudhry.reset_index(drop=True, inplace=True)"
   ]
  },
  {
   "cell_type": "code",
   "execution_count": null,
   "metadata": {
    "ExecuteTime": {
     "end_time": "2020-05-10T15:28:36.282672Z",
     "start_time": "2020-05-10T15:28:35.793270Z"
    }
   },
   "outputs": [],
   "source": [
    "# Write filtered dataframes to csv file\n",
    "\n",
    "DATASET_PREFIX = r'../dataset/1_english/'\n",
    "\n",
    "if not os.path.exists(DATASET_PREFIX):\n",
    "    os.makedirs(DATASET_PREFIX)\n",
    "\n",
    "filtered_bbhuttozardari.to_csv(DATASET_PREFIX + 'bbhuttozardari.csv', index=False)\n",
    "filtered_ImranKhanPTI.to_csv(DATASET_PREFIX + 'imrankhanpti.csv', index=False)\n",
    "filtered_MaryamNSharif.to_csv(DATASET_PREFIX + 'maryamnsharif.csv', index=False)\n",
    "filtered_MJibranNasir.to_csv(DATASET_PREFIX + 'mjibrannasir.csv', index=False)\n",
    "filtered_narendramodi.to_csv(DATASET_PREFIX + 'narendramodi.csv', index=False)\n",
    "filtered_fawadChaudhry.to_csv(DATASET_PREFIX + 'fawadchaudhry.csv', index=False)"
   ]
  },
  {
   "cell_type": "code",
   "execution_count": null,
   "metadata": {
    "ExecuteTime": {
     "end_time": "2020-05-10T15:28:36.296023Z",
     "start_time": "2020-05-10T15:28:36.284404Z"
    }
   },
   "outputs": [],
   "source": [
    "print('bbhuttozardari.csv:\\tbefore: {0}\\tafter: {1}'.format(len(df_bbhuttozardari), len(filtered_bbhuttozardari))) \n",
    "print('imrankhanpti.csv:\\tbefore: {0}\\tafter: {1}'.format(len(df_ImranKhanPTI), len(filtered_ImranKhanPTI)))\n",
    "print('maryamnsharif.csv:\\tbefore: {0}\\tafter: {1}'.format(len(df_MaryamNSharif), len(filtered_MaryamNSharif)))\n",
    "print('mjibrannasir.csv:\\tbefore: {0}\\tafter: {1}'.format(len(df_MJibranNasir), len(filtered_MJibranNasir)))\n",
    "print('narendramodi.csv:\\tbefore: {0}\\tafter: {1}'.format(len(df_narendramodi), len(filtered_narendramodi)))\n",
    "print('fawadchaudhry.csv:\\tbefore: {0}\\tafter: {1}'.format(len(df_fawadChaudhry), len(filtered_fawadChaudhry)))"
   ]
  },
  {
   "cell_type": "code",
   "execution_count": null,
   "metadata": {},
   "outputs": [],
   "source": []
  }
 ],
 "metadata": {
  "kernelspec": {
   "display_name": "Python 3",
   "language": "python",
   "name": "python3"
  },
  "language_info": {
   "codemirror_mode": {
    "name": "ipython",
    "version": 3
   },
   "file_extension": ".py",
   "mimetype": "text/x-python",
   "name": "python",
   "nbconvert_exporter": "python",
   "pygments_lexer": "ipython3",
   "version": "3.7.6"
  }
 },
 "nbformat": 4,
 "nbformat_minor": 4
}
