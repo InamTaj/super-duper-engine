{
 "cells": [
  {
   "cell_type": "code",
   "execution_count": 10,
   "metadata": {
    "ExecuteTime": {
     "end_time": "2020-05-17T20:06:56.850043Z",
     "start_time": "2020-05-17T20:06:56.835450Z"
    }
   },
   "outputs": [],
   "source": [
    "# Import libraries\n",
    "import os\n",
    "import pandas as pd"
   ]
  },
  {
   "cell_type": "code",
   "execution_count": 11,
   "metadata": {
    "ExecuteTime": {
     "end_time": "2020-05-17T20:06:56.858573Z",
     "start_time": "2020-05-17T20:06:56.852863Z"
    }
   },
   "outputs": [],
   "source": [
    "# Set options for viewing dataframes properly\n",
    "\n",
    "pd.set_option('display.max_rows', None)\n",
    "pd.set_option('display.max_columns', None)\n",
    "pd.set_option('display.width', None)\n",
    "pd.set_option('display.max_colwidth', None)"
   ]
  },
  {
   "cell_type": "code",
   "execution_count": 12,
   "metadata": {
    "ExecuteTime": {
     "end_time": "2020-05-17T20:06:56.866800Z",
     "start_time": "2020-05-17T20:06:56.861280Z"
    }
   },
   "outputs": [],
   "source": [
    "# Load dataset\n",
    "\n",
    "def load_data(filename):\n",
    "    data = pd.read_csv(filename, index_col=False, usecols=['Datetime','Text'])\n",
    "    return data"
   ]
  },
  {
   "cell_type": "code",
   "execution_count": 13,
   "metadata": {
    "ExecuteTime": {
     "end_time": "2020-05-17T20:06:57.145268Z",
     "start_time": "2020-05-17T20:06:56.869618Z"
    }
   },
   "outputs": [],
   "source": [
    "# Get dataframes for all politicians\n",
    "\n",
    "DATASET_PREFIX = '../dataset/raw/'\n",
    "\n",
    "df_bbhuttozardari = load_data(DATASET_PREFIX + 'bbhuttozardari.csv')\n",
    "df_ImranKhanPTI = load_data(DATASET_PREFIX + 'imrankhanpti.csv')\n",
    "df_MaryamNSharif = load_data(DATASET_PREFIX + 'maryamnsharif.csv')\n",
    "df_MJibranNasir = load_data(DATASET_PREFIX + 'mjibrannasir.csv')\n",
    "df_narendramodi = load_data(DATASET_PREFIX + 'narendramodi.csv')\n",
    "df_fawadChaudhry = load_data(DATASET_PREFIX + 'fawadchaudhry.csv')\n",
    "df_marviMemon = load_data(DATASET_PREFIX + 'marvimemon.csv')\n",
    "df_sherryRehman = load_data(DATASET_PREFIX + 'sherryrehman.csv')"
   ]
  },
  {
   "cell_type": "code",
   "execution_count": 14,
   "metadata": {
    "ExecuteTime": {
     "end_time": "2020-05-17T20:06:57.155476Z",
     "start_time": "2020-05-17T20:06:57.149072Z"
    }
   },
   "outputs": [
    {
     "name": "stdout",
     "output_type": "stream",
     "text": [
      "df_bbhuttozardari\t 4595\n",
      "df_ImranKhanPTI \t 6254\n",
      "df_MaryamNSharif\t 31515\n",
      "df_MJibranNasir \t 19861\n",
      "df_narendramodi \t 23796\n",
      "df_fawadChaudhry\t 25075\n",
      "df_marviMemon   \t 6262\n",
      "df_sherryRehman \t 20381\n"
     ]
    }
   ],
   "source": [
    "print('df_bbhuttozardari\\t', len(df_bbhuttozardari))\n",
    "print('df_ImranKhanPTI \\t', len(df_ImranKhanPTI))\n",
    "print('df_MaryamNSharif\\t', len(df_MaryamNSharif))\n",
    "print('df_MJibranNasir \\t', len(df_MJibranNasir))\n",
    "print('df_narendramodi \\t', len(df_narendramodi))\n",
    "print('df_fawadChaudhry\\t', len(df_fawadChaudhry))\n",
    "print('df_marviMemon   \\t', len(df_marviMemon))\n",
    "print('df_sherryRehman \\t', len(df_sherryRehman))"
   ]
  },
  {
   "cell_type": "code",
   "execution_count": 15,
   "metadata": {
    "ExecuteTime": {
     "end_time": "2020-05-17T20:06:57.395284Z",
     "start_time": "2020-05-17T20:06:57.159639Z"
    }
   },
   "outputs": [],
   "source": [
    "# Get filtered dataframes - filtering out tweets with non-english text\n",
    "\n",
    "filtered_bbhuttozardari = df_bbhuttozardari[df_bbhuttozardari.Text.str.contains('[^A-Za-z0-9\\s\\!\\\"\\#\\$\\%\\&\\'\\(\\)\\*\\+\\,\\-\\.\\/\\:\\;\\<\\=\\>\\?\\@\\[\\]\\^\\_\\`\\{\\|\\}\\~\\’\\\\\\]') == False]\n",
    "filtered_bbhuttozardari.reset_index(drop=True, inplace=True)\n",
    "\n",
    "filtered_ImranKhanPTI = df_ImranKhanPTI[df_ImranKhanPTI.Text.str.contains('[^A-Za-z0-9\\s\\!\\\"\\#\\$\\%\\&\\'\\(\\)\\*\\+\\,\\-\\.\\/\\:\\;\\<\\=\\>\\?\\@\\[\\]\\^\\_\\`\\{\\|\\}\\~\\’\\\\\\]') == False]\n",
    "filtered_ImranKhanPTI.reset_index(drop=True, inplace=True)\n",
    "\n",
    "filtered_MaryamNSharif = df_MaryamNSharif[df_MaryamNSharif.Text.str.contains('[^A-Za-z0-9\\s\\!\\\"\\#\\$\\%\\&\\'\\(\\)\\*\\+\\,\\-\\.\\/\\:\\;\\<\\=\\>\\?\\@\\[\\]\\^\\_\\`\\{\\|\\}\\~\\’\\\\\\]') == False]\n",
    "filtered_MaryamNSharif.reset_index(drop=True, inplace=True)\n",
    "\n",
    "filtered_MJibranNasir = df_MJibranNasir[df_MJibranNasir.Text.str.contains('[^A-Za-z0-9\\s\\!\\\"\\#\\$\\%\\&\\'\\(\\)\\*\\+\\,\\-\\.\\/\\:\\;\\<\\=\\>\\?\\@\\[\\]\\^\\_\\`\\{\\|\\}\\~\\’\\\\\\]') == False]\n",
    "filtered_MJibranNasir.reset_index(drop=True, inplace=True)\n",
    "\n",
    "filtered_narendramodi = df_narendramodi[df_narendramodi.Text.str.contains('[^A-Za-z0-9\\s\\!\\\"\\#\\$\\%\\&\\'\\(\\)\\*\\+\\,\\-\\.\\/\\:\\;\\<\\=\\>\\?\\@\\[\\]\\^\\_\\`\\{\\|\\}\\~\\’\\\\\\]') == False]\n",
    "filtered_narendramodi.reset_index(drop=True, inplace=True)\n",
    "\n",
    "filtered_fawadChaudhry = df_fawadChaudhry[df_fawadChaudhry.Text.str.contains('[^A-Za-z0-9\\s\\!\\\"\\#\\$\\%\\&\\'\\(\\)\\*\\+\\,\\-\\.\\/\\:\\;\\<\\=\\>\\?\\@\\[\\]\\^\\_\\`\\{\\|\\}\\~\\’\\\\\\]') == False]\n",
    "filtered_fawadChaudhry.reset_index(drop=True, inplace=True)\n",
    "\n",
    "filtered_marviMemon = df_marviMemon[df_marviMemon.Text.str.contains('[^A-Za-z0-9\\s\\!\\\"\\#\\$\\%\\&\\'\\(\\)\\*\\+\\,\\-\\.\\/\\:\\;\\<\\=\\>\\?\\@\\[\\]\\^\\_\\`\\{\\|\\}\\~\\’\\\\\\]') == False]\n",
    "filtered_marviMemon.reset_index(drop=True, inplace=True)\n",
    "\n",
    "filtered_sherryRehman = df_sherryRehman[df_sherryRehman.Text.str.contains('[^A-Za-z0-9\\s\\!\\\"\\#\\$\\%\\&\\'\\(\\)\\*\\+\\,\\-\\.\\/\\:\\;\\<\\=\\>\\?\\@\\[\\]\\^\\_\\`\\{\\|\\}\\~\\’\\\\\\]') == False]\n",
    "filtered_sherryRehman.reset_index(drop=True, inplace=True)"
   ]
  },
  {
   "cell_type": "code",
   "execution_count": 16,
   "metadata": {
    "ExecuteTime": {
     "end_time": "2020-05-17T20:06:57.982526Z",
     "start_time": "2020-05-17T20:06:57.397205Z"
    }
   },
   "outputs": [],
   "source": [
    "# Write filtered dataframes to csv file\n",
    "\n",
    "DATASET_PREFIX = r'../dataset/1_english/'\n",
    "\n",
    "if not os.path.exists(DATASET_PREFIX):\n",
    "    os.makedirs(DATASET_PREFIX)\n",
    "\n",
    "filtered_bbhuttozardari.to_csv(DATASET_PREFIX + 'bbhuttozardari.csv', index=False)\n",
    "filtered_ImranKhanPTI.to_csv(DATASET_PREFIX + 'imrankhanpti.csv', index=False)\n",
    "filtered_MaryamNSharif.to_csv(DATASET_PREFIX + 'maryamnsharif.csv', index=False)\n",
    "filtered_MJibranNasir.to_csv(DATASET_PREFIX + 'mjibrannasir.csv', index=False)\n",
    "filtered_narendramodi.to_csv(DATASET_PREFIX + 'narendramodi.csv', index=False)\n",
    "filtered_fawadChaudhry.to_csv(DATASET_PREFIX + 'fawadchaudhry.csv', index=False)\n",
    "filtered_marviMemon.to_csv(DATASET_PREFIX + 'marvimemon.csv', index=False)\n",
    "filtered_sherryRehman.to_csv(DATASET_PREFIX + 'sherryrehman.csv', index=False)"
   ]
  },
  {
   "cell_type": "code",
   "execution_count": 17,
   "metadata": {
    "ExecuteTime": {
     "end_time": "2020-05-17T20:06:57.995395Z",
     "start_time": "2020-05-17T20:06:57.984955Z"
    }
   },
   "outputs": [
    {
     "name": "stdout",
     "output_type": "stream",
     "text": [
      "bbhuttozardari.csv:\tbefore: 4595\tafter: 4339\n",
      "imrankhanpti.csv:\tbefore: 6254\tafter: 5519\n",
      "maryamnsharif.csv:\tbefore: 31515\tafter: 27681\n",
      "mjibrannasir.csv:\tbefore: 19861\tafter: 19275\n",
      "narendramodi.csv:\tbefore: 23796\tafter: 20173\n",
      "fawadchaudhry.csv:\tbefore: 25075\tafter: 23525\n",
      "marvimemon.csv:\tbefore: 6262\tafter: 5974\n",
      "sherryrehman.csv:\tbefore: 20381\tafter: 18469\n"
     ]
    }
   ],
   "source": [
    "print('bbhuttozardari.csv:\\tbefore: {0}\\tafter: {1}'.format(len(df_bbhuttozardari), len(filtered_bbhuttozardari))) \n",
    "print('imrankhanpti.csv:\\tbefore: {0}\\tafter: {1}'.format(len(df_ImranKhanPTI), len(filtered_ImranKhanPTI)))\n",
    "print('maryamnsharif.csv:\\tbefore: {0}\\tafter: {1}'.format(len(df_MaryamNSharif), len(filtered_MaryamNSharif)))\n",
    "print('mjibrannasir.csv:\\tbefore: {0}\\tafter: {1}'.format(len(df_MJibranNasir), len(filtered_MJibranNasir)))\n",
    "print('narendramodi.csv:\\tbefore: {0}\\tafter: {1}'.format(len(df_narendramodi), len(filtered_narendramodi)))\n",
    "print('fawadchaudhry.csv:\\tbefore: {0}\\tafter: {1}'.format(len(df_fawadChaudhry), len(filtered_fawadChaudhry)))\n",
    "print('marvimemon.csv:\\tbefore: {0}\\tafter: {1}'.format(len(df_marviMemon), len(filtered_marviMemon)))\n",
    "print('sherryrehman.csv:\\tbefore: {0}\\tafter: {1}'.format(len(df_sherryRehman), len(filtered_sherryRehman)))\n"
   ]
  },
  {
   "cell_type": "code",
   "execution_count": null,
   "metadata": {},
   "outputs": [],
   "source": []
  }
 ],
 "metadata": {
  "kernelspec": {
   "display_name": "Python 3",
   "language": "python",
   "name": "python3"
  },
  "language_info": {
   "codemirror_mode": {
    "name": "ipython",
    "version": 3
   },
   "file_extension": ".py",
   "mimetype": "text/x-python",
   "name": "python",
   "nbconvert_exporter": "python",
   "pygments_lexer": "ipython3",
   "version": "3.7.6"
  }
 },
 "nbformat": 4,
 "nbformat_minor": 4
}
