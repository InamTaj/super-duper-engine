{
  "nbformat": 4,
  "nbformat_minor": 0,
  "metadata": {
    "colab": {
      "name": "Ngram 5 perplexity.ipynb",
      "provenance": [],
      "collapsed_sections": []
    },
    "kernelspec": {
      "display_name": "Python 3",
      "language": "python",
      "name": "python3"
    },
    "language_info": {
      "codemirror_mode": {
        "name": "ipython",
        "version": 3
      },
      "file_extension": ".py",
      "mimetype": "text/x-python",
      "name": "python",
      "nbconvert_exporter": "python",
      "pygments_lexer": "ipython3",
      "version": "3.7.6"
    },
    "accelerator": "GPU"
  },
  "cells": [
    {
      "cell_type": "code",
      "metadata": {
        "colab_type": "code",
        "id": "n8wll69hYin3",
        "outputId": "ba58e324-caa0-406d-a874-416799e23bb2",
        "colab": {
          "base_uri": "https://localhost:8080/",
          "height": 72
        }
      },
      "source": [
        "import pandas as pd\n",
        "import numpy as np\n",
        "import nltk\n",
        "from nltk.tokenize import word_tokenize\n",
        "from nltk.corpus import stopwords\n",
        "from sklearn.feature_extraction.text import TfidfVectorizer\n",
        "from sklearn.metrics import confusion_matrix, classification_report\n",
        "import seaborn as sns\n",
        "import matplotlib.pyplot as plt\n",
        "from sklearn.metrics.pairwise import cosine_similarity\n",
        "\n",
        "import scipy.sparse as sp\n",
        "import scipy.linalg as sparcyLinalg\n",
        "import collections"
      ],
      "execution_count": 0,
      "outputs": [
        {
          "output_type": "stream",
          "text": [
            "/usr/local/lib/python3.6/dist-packages/statsmodels/tools/_testing.py:19: FutureWarning: pandas.util.testing is deprecated. Use the functions in the public API at pandas.testing instead.\n",
            "  import pandas.util.testing as tm\n"
          ],
          "name": "stderr"
        }
      ]
    },
    {
      "cell_type": "code",
      "metadata": {
        "id": "docS0tAZaJWg",
        "colab_type": "code",
        "outputId": "a19a584d-741d-4c3c-a3eb-a072f00d10f4",
        "colab": {
          "base_uri": "https://localhost:8080/",
          "height": 124
        }
      },
      "source": [
        "from google.colab import drive\n",
        "drive.mount('/content/drive', force_remount=True)"
      ],
      "execution_count": 0,
      "outputs": [
        {
          "output_type": "stream",
          "text": [
            "Go to this URL in a browser: https://accounts.google.com/o/oauth2/auth?client_id=947318989803-6bn6qk8qdgf4n4g3pfee6491hc0brc4i.apps.googleusercontent.com&redirect_uri=urn%3aietf%3awg%3aoauth%3a2.0%3aoob&response_type=code&scope=email%20https%3a%2f%2fwww.googleapis.com%2fauth%2fdocs.test%20https%3a%2f%2fwww.googleapis.com%2fauth%2fdrive%20https%3a%2f%2fwww.googleapis.com%2fauth%2fdrive.photos.readonly%20https%3a%2f%2fwww.googleapis.com%2fauth%2fpeopleapi.readonly\n",
            "\n",
            "Enter your authorization code:\n",
            "··········\n",
            "Mounted at /content/drive\n"
          ],
          "name": "stdout"
        }
      ]
    },
    {
      "cell_type": "code",
      "metadata": {
        "id": "_EDMaOBLaSc6",
        "colab_type": "code",
        "outputId": "5690e5a5-fbf4-4611-9631-ef2b023c3d08",
        "colab": {
          "base_uri": "https://localhost:8080/",
          "height": 104
        }
      },
      "source": [
        "import nltk\n",
        "nltk.download('stopwords')\n",
        "nltk.download('punkt')"
      ],
      "execution_count": 0,
      "outputs": [
        {
          "output_type": "stream",
          "text": [
            "[nltk_data] Downloading package stopwords to /root/nltk_data...\n",
            "[nltk_data]   Unzipping corpora/stopwords.zip.\n",
            "[nltk_data] Downloading package punkt to /root/nltk_data...\n",
            "[nltk_data]   Unzipping tokenizers/punkt.zip.\n"
          ],
          "name": "stdout"
        },
        {
          "output_type": "execute_result",
          "data": {
            "text/plain": [
              "True"
            ]
          },
          "metadata": {
            "tags": []
          },
          "execution_count": 3
        }
      ]
    },
    {
      "cell_type": "code",
      "metadata": {
        "id": "xe28cTZMaXbF",
        "colab_type": "code",
        "colab": {}
      },
      "source": [
        "BASE_DIR = '/content/drive/My Drive/ngram_model/'\n",
        "DATASETS_PATH = BASE_DIR"
      ],
      "execution_count": 0,
      "outputs": []
    },
    {
      "cell_type": "code",
      "metadata": {
        "id": "cec8h-bQaXeW",
        "colab_type": "code",
        "colab": {}
      },
      "source": [
        "def load_data(filename_train, filename_test, filename_val):\n",
        "    \"\"\"\n",
        "    Load train, test and validation sets from file\n",
        "\n",
        "    Args:\n",
        "        filename_train : Name of the file from which the train data is to be loaded\n",
        "        filename_test : Name of the file from which the test data is to be loaded\n",
        "        filename_val : Name of the file from which the validation data is to be loaded\n",
        "    \n",
        "    Returns:\n",
        "        train_tweet_X: list of tweets from train data\n",
        "        train_tweet_Y: list of lables correponding to each tweet from train data\n",
        "        test_tweet_X: list of tweets from test data\n",
        "        test_tweet_Y: list of lables correponding to each tweet from test data\n",
        "        val_tweet_X: list of tweets from validation data\n",
        "        val_tweet_Y: list of lables correponding to each tweet from validation data\n",
        "    \"\"\"\n",
        "    train = pd.read_csv(filename_train)\n",
        "    test = pd.read_csv(filename_test)\n",
        "    val = pd.read_csv(filename_val)\n",
        "    \n",
        "    return train['Text'].tolist(), train['Label'].tolist(), test['Text'].tolist(), test['Label'].tolist(), val['Text'].tolist(), val['Label'].tolist()"
      ],
      "execution_count": 0,
      "outputs": []
    },
    {
      "cell_type": "code",
      "metadata": {
        "id": "XVbsRr5IafXp",
        "colab_type": "code",
        "outputId": "a225aa1c-e41c-4986-b7ec-522c34e981bf",
        "colab": {
          "base_uri": "https://localhost:8080/",
          "height": 69
        }
      },
      "source": [
        "# LOADING TRAIN, TEST AND VALIDATION SETS\n",
        "\n",
        "train_tweet_X, train_tweet_Y, test_tweet_X, test_tweet_Y, val_tweet_X, val_tweet_Y = load_data(DATASETS_PATH + 'train.csv', DATASETS_PATH + 'test.csv', DATASETS_PATH + 'val.csv')\n",
        "\n",
        "print(\"Train length: \\t\", len(train_tweet_X))\n",
        "print(\"Test length: \\t\", len(test_tweet_X))\n",
        "print(\"Val length: \\t\", len(val_tweet_X))"
      ],
      "execution_count": 0,
      "outputs": [
        {
          "output_type": "stream",
          "text": [
            "Train length: \t 40231\n",
            "Test length: \t 11833\n",
            "Val length: \t 7100\n"
          ],
          "name": "stdout"
        }
      ]
    },
    {
      "cell_type": "code",
      "metadata": {
        "colab_type": "code",
        "id": "9Np407A4a7qa",
        "colab": {}
      },
      "source": [
        "class LanguageModel:\n",
        "    def __init__(self, docs, n):\n",
        "        \"\"\"\n",
        "        Initialize an n-gram language model.\n",
        "        \n",
        "        Args:\n",
        "            docs: list of strings, where each string represents a space-separated\n",
        "                  document\n",
        "            n: integer, degree of n-gram model\n",
        "        \"\"\"\n",
        "#         print(docs)\n",
        "        self.counts = collections.defaultdict(dict) # Dict from space-separated \"previous words\" to a Dict of (next word, count). \n",
        "        self.count_sums = collections.Counter() # Dict from space-separated \"previous words\" to the total number of times they appear\n",
        "        \n",
        "        self.num = n\n",
        "\n",
        "        self.dictionary=[]\n",
        "        \n",
        "        for document in docs:\n",
        "            # splitting\n",
        "            document_words = document.split()\n",
        "            \n",
        "            self.dictionary = self.dictionary + document_words\n",
        "            \n",
        "            #length of document_words\n",
        "            size = len(document_words)\n",
        "            \n",
        "            for i in range(size - n + 1):\n",
        "                \n",
        "                previous = \" \".join(document_words[i:i+n-1])\n",
        "                #keeping track of curr\n",
        "                current = document_words[i + n - 1]\n",
        "                \n",
        "                self.count_sums[previous] = self.count_sums[previous] + 1\n",
        "                \n",
        "                if previous in self.counts.keys():\n",
        "                    if current in self.counts[previous].keys():\n",
        "                        count = self.counts[previous][current]\n",
        "                        \n",
        "                        self.counts[previous][current] = count + 1\n",
        "                    \n",
        "                    else:\n",
        "                        self.counts[previous][current] = 1\n",
        "                else:\n",
        "                    self.counts[previous] = {current : 1}\n",
        "    \n",
        "    def perplexity(self, text, alpha=1e-3):\n",
        "        \"\"\"\n",
        "        Evaluate perplexity of model on some text.\n",
        "        \n",
        "        Args:\n",
        "            text: string containing space-separated words, on which to compute\n",
        "            alpha: constant to use in Laplace smoothing\n",
        "            \n",
        "        Note: for the purposes of smoothing, the dictionary size (i.e, the D term)\n",
        "        should be equal to the total number of unique words used to build the model\n",
        "        _and_ in the input text to this function.\n",
        "            \n",
        "        Returns: perplexity\n",
        "            perplexity: floating point value, perplexity of the text as evaluted\n",
        "                        under the model.\n",
        "        \"\"\"\n",
        "        probability = {}\n",
        "        \n",
        "        split_text = text.split()\n",
        "        total_words = self.dictionary + split_text\n",
        "\n",
        "        size_of_set = len(set(total_words))\n",
        "        size = len(split_text)\n",
        "        \n",
        "        n = self.num\n",
        "                \n",
        "        probability = 0\n",
        "        counter_previous = 0\n",
        "        counter_curr = 0\n",
        "        #looping over all\n",
        "        for i in range(size - n + 1):\n",
        "                text_previous = \" \".join(split_text[i:i+n-1])\n",
        "                \n",
        "                current = split_text[i+n-1]\n",
        "                counter_curr = 0\n",
        "                \n",
        "                if text_previous in self.count_sums.keys():\n",
        "                    counter_previous  = self.count_sums[text_previous]\n",
        "                    \n",
        "                    if current in self.counts[text_previous].keys():\n",
        "                        \n",
        "                        counter_curr = self.counts[text_previous][current]\n",
        "                    else :\n",
        "                        counter_curr = 0\n",
        "                else:\n",
        "                    counter_previous = 0\n",
        "                    counter_curr = 0\n",
        "                    \n",
        "                probability = probability + np.log((counter_curr + alpha) / (counter_previous + (alpha * size_of_set )))\n",
        "                \n",
        "        perplexity = np.exp(-1 * (probability / (size - n + 1)))\n",
        "        \n",
        "        return float(perplexity)"
      ],
      "execution_count": 0,
      "outputs": []
    },
    {
      "cell_type": "code",
      "metadata": {
        "colab_type": "code",
        "id": "A-GsY1gObEdZ",
        "colab": {}
      },
      "source": [
        "def get_perplexity(train_tweet_X, train_tweet_Y, test_tweet_X):\n",
        "    # CREATING ARRAYS FOR EACH POLITICIANS TWEET IN train_tweet_X\n",
        "    fawadchaudhry_tweets = []\n",
        "    maryamnsharif_tweets = []\n",
        "    mjibrannasir_tweets = []\n",
        "    narendramodi_tweets = []\n",
        "    sherryrehman_tweets = []\n",
        "\n",
        "    for i, label in enumerate(train_tweet_Y):\n",
        "      if label == 'fawadchaudhry':\n",
        "        fawadchaudhry_tweets.append(train_tweet_X[i])\n",
        "      elif label == 'maryamnsharif':\n",
        "        maryamnsharif_tweets.append(train_tweet_X[i])\n",
        "      elif label == 'mjibrannasir':\n",
        "        mjibrannasir_tweets.append(train_tweet_X[i])\n",
        "      elif label == 'narendramodi':\n",
        "        narendramodi_tweets.append(train_tweet_X[i])\n",
        "      elif label == 'sherryrehman':\n",
        "        sherryrehman_tweets.append(train_tweet_X[i])\n",
        "\n",
        "\n",
        "    fawadchaudhry_model = LanguageModel(fawadchaudhry_tweets, 5)\n",
        "    maryamnsharif_model = LanguageModel(maryamnsharif_tweets, 5)\n",
        "    mjibrannasir_model = LanguageModel(mjibrannasir_tweets, 5)\n",
        "    narendramodi_model = LanguageModel(narendramodi_tweets, 5)\n",
        "    sherryrehman_model = LanguageModel(sherryrehman_tweets, 5)\n",
        "\n",
        "    perplexities = []\n",
        "    for x in test_tweet_X:\n",
        "      fawadchaudhry_perplexity = fawadchaudhry_model.perplexity(x)\n",
        "      maryamnsharif_perplexity = maryamnsharif_model.perplexity(x)\n",
        "      mjibrannasir_perplexity = mjibrannasir_model.perplexity(x)\n",
        "      narendramodi_perplexity = narendramodi_model.perplexity(x)\n",
        "      sherryrehman_perplexity = sherryrehman_model.perplexity(x)\n",
        "\n",
        "      perplexities.append([fawadchaudhry_perplexity, maryamnsharif_perplexity, mjibrannasir_perplexity, narendramodi_perplexity, sherryrehman_perplexity])\n",
        "    \n",
        "    return perplexities"
      ],
      "execution_count": 0,
      "outputs": []
    },
    {
      "cell_type": "code",
      "metadata": {
        "colab_type": "code",
        "id": "Yq0ANUerZFsh",
        "colab": {}
      },
      "source": [
        "my_perplexities = get_perplexity(train_tweet_X, train_tweet_Y, test_tweet_X)"
      ],
      "execution_count": 0,
      "outputs": []
    },
    {
      "cell_type": "code",
      "metadata": {
        "id": "ubEmbg4uowMp",
        "colab_type": "code",
        "colab": {}
      },
      "source": [
        "# Getting the predicted values by taking the minimum of the perplexities\n",
        "predictions = []\n",
        "politicians_list = ['fawadchaudhry', 'maryamnsharif', 'mjibrannasir', 'narendramodi', 'sherryrehman']\n",
        "for i, avg_cos in enumerate(my_perplexities):\n",
        "  index = my_perplexities[i].index(min(my_perplexities[i]))\n",
        "  predictions.append(politicians_list[index])"
      ],
      "execution_count": 0,
      "outputs": []
    },
    {
      "cell_type": "code",
      "metadata": {
        "id": "C_-mEfB1pDMu",
        "colab_type": "code",
        "outputId": "44419047-acc7-4197-cc13-2f92044a9504",
        "colab": {
          "base_uri": "https://localhost:8080/",
          "height": 606
        }
      },
      "source": [
        "# Plotting Confusion Matrix\n",
        "\n",
        "conf_mat = confusion_matrix(test_tweet_Y, predictions)\n",
        "fig, ax = plt.subplots(figsize=(10,10))\n",
        "sns.heatmap(conf_mat, annot=True, fmt='d',\n",
        "            xticklabels=['0', '1', '2', '3', '4'], yticklabels=['0', '1', '2', '3', '4'])\n",
        "plt.ylabel('Actual')\n",
        "plt.xlabel('Predicted')\n",
        "plt.show()"
      ],
      "execution_count": 0,
      "outputs": [
        {
          "output_type": "display_data",
          "data": {
            "image/png": "[encoded data removed]",
            "text/plain": [
              "<Figure size 720x720 with 2 Axes>"
            ]
          },
          "metadata": {
            "tags": [],
            "needs_background": "light"
          }
        }
      ]
    },
    {
      "cell_type": "code",
      "metadata": {
        "id": "9o8IYhkFpHl2",
        "colab_type": "code",
        "outputId": "37407022-35cb-4443-fe4e-7a9b173207c2",
        "colab": {
          "base_uri": "https://localhost:8080/",
          "height": 225
        }
      },
      "source": [
        "print(classification_report(test_tweet_Y, predictions))"
      ],
      "execution_count": 0,
      "outputs": [
        {
          "output_type": "stream",
          "text": [
            "               precision    recall  f1-score   support\n",
            "\n",
            "fawadchaudhry       0.77      0.05      0.09      1976\n",
            "maryamnsharif       0.20      0.96      0.33      1950\n",
            " mjibrannasir       0.88      0.11      0.19      2613\n",
            " narendramodi       0.93      0.53      0.67      3270\n",
            " sherryrehman       0.67      0.05      0.10      2024\n",
            "\n",
            "     accuracy                           0.34     11833\n",
            "    macro avg       0.69      0.34      0.28     11833\n",
            " weighted avg       0.73      0.34      0.31     11833\n",
            "\n"
          ],
          "name": "stdout"
        }
      ]
    },
    {
      "cell_type": "code",
      "metadata": {
        "id": "nMW_js3SpNsO",
        "colab_type": "code",
        "colab": {}
      },
      "source": [
        ""
      ],
      "execution_count": 0,
      "outputs": []
    }
  ]
}