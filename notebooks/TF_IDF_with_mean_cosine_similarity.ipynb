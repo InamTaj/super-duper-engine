{
  "nbformat": 4,
  "nbformat_minor": 0,
  "metadata": {
    "kernelspec": {
      "name": "python3",
      "display_name": "Python 3"
    },
    "colab": {
      "name": "TF-IDF with mean cosine similarity.ipynb",
      "provenance": [],
      "collapsed_sections": []
    },
    "accelerator": "GPU"
  },
  "cells": [
    {
      "cell_type": "code",
      "metadata": {
        "id": "Nr20pEssxUT_",
        "colab_type": "code",
        "colab": {}
      },
      "source": [
        "import pandas as pd\n",
        "import numpy as np\n",
        "import nltk\n",
        "from nltk.tokenize import word_tokenize\n",
        "from nltk.corpus import stopwords\n",
        "from sklearn.feature_extraction.text import TfidfVectorizer\n",
        "from sklearn.metrics import confusion_matrix, classification_report\n",
        "import seaborn as sns\n",
        "import matplotlib.pyplot as plt\n",
        "from sklearn.metrics.pairwise import cosine_similarity\n",
        "\n",
        "import scipy.sparse as sp\n",
        "import scipy.linalg as sparcyLinalg"
      ],
      "execution_count": 0,
      "outputs": []
    },
    {
      "cell_type": "code",
      "metadata": {
        "id": "VGQMR6LfxqYV",
        "colab_type": "code",
        "outputId": "9a5d6e7a-eb9d-4d0d-99df-5a47c7aabcad",
        "colab": {
          "base_uri": "https://localhost:8080/",
          "height": 34
        }
      },
      "source": [
        "from google.colab import drive\n",
        "drive.mount('/content/drive', force_remount=True)"
      ],
      "execution_count": 49,
      "outputs": [
        {
          "output_type": "stream",
          "text": [
            "Mounted at /content/drive\n"
          ],
          "name": "stdout"
        }
      ]
    },
    {
      "cell_type": "code",
      "metadata": {
        "id": "mAs3fiSiD4oG",
        "colab_type": "code",
        "colab": {
          "base_uri": "https://localhost:8080/",
          "height": 104
        },
        "outputId": "15750d59-e9e3-4a32-abbe-49fd37049504"
      },
      "source": [
        "import nltk\n",
        "nltk.download('stopwords')\n",
        "nltk.download('punkt')"
      ],
      "execution_count": 50,
      "outputs": [
        {
          "output_type": "stream",
          "text": [
            "[nltk_data] Downloading package stopwords to /root/nltk_data...\n",
            "[nltk_data]   Package stopwords is already up-to-date!\n",
            "[nltk_data] Downloading package punkt to /root/nltk_data...\n",
            "[nltk_data]   Package punkt is already up-to-date!\n"
          ],
          "name": "stdout"
        },
        {
          "output_type": "execute_result",
          "data": {
            "text/plain": [
              "True"
            ]
          },
          "metadata": {
            "tags": []
          },
          "execution_count": 50
        }
      ]
    },
    {
      "cell_type": "code",
      "metadata": {
        "id": "P_plDjnFyRR_",
        "colab_type": "code",
        "colab": {}
      },
      "source": [
        "BASE_DIR = '/content/drive/My Drive/tfidf_cosine/'"
      ],
      "execution_count": 0,
      "outputs": []
    },
    {
      "cell_type": "code",
      "metadata": {
        "id": "eLWae3iZxUUN",
        "colab_type": "code",
        "colab": {}
      },
      "source": [
        "DATASETS_PATH = BASE_DIR"
      ],
      "execution_count": 0,
      "outputs": []
    },
    {
      "cell_type": "code",
      "metadata": {
        "id": "6F9zQibVxUUa",
        "colab_type": "code",
        "colab": {}
      },
      "source": [
        "def load_data(filename_train, filename_test, filename_val):\n",
        "    \"\"\"\n",
        "    Load train, test and validation sets from file\n",
        "\n",
        "    Args:\n",
        "        filename_train : Name of the file from which the train data is to be loaded\n",
        "        filename_test : Name of the file from which the test data is to be loaded\n",
        "        filename_val : Name of the file from which the validation data is to be loaded\n",
        "    \n",
        "    Returns:\n",
        "        train_tweet_X: list of tweets from train data\n",
        "        train_tweet_Y: list of lables correponding to each tweet from train data\n",
        "        test_tweet_X: list of tweets from test data\n",
        "        test_tweet_Y: list of lables correponding to each tweet from test data\n",
        "        val_tweet_X: list of tweets from validation data\n",
        "        val_tweet_Y: list of lables correponding to each tweet from validation data\n",
        "    \"\"\"\n",
        "    train = pd.read_csv(filename_train)\n",
        "    test = pd.read_csv(filename_test)\n",
        "    val = pd.read_csv(filename_val)\n",
        "    \n",
        "    return train['Text'].tolist(), train['Label'].tolist(), test['Text'].tolist(), test['Label'].tolist(), val['Text'].tolist(), val['Label'].tolist()"
      ],
      "execution_count": 0,
      "outputs": []
    },
    {
      "cell_type": "code",
      "metadata": {
        "id": "tWLE3RuOxUUj",
        "colab_type": "code",
        "outputId": "26bf4ccd-0e26-4b22-82d8-c815e0e2368b",
        "colab": {
          "base_uri": "https://localhost:8080/",
          "height": 69
        }
      },
      "source": [
        "# LOADING TRAIN, TEST AND VALIDATION SETS\n",
        "\n",
        "train_tweet_X, train_tweet_Y, test_tweet_X, test_tweet_Y, val_tweet_X, val_tweet_Y = load_data(DATASETS_PATH + 'train.csv', DATASETS_PATH + 'test.csv', DATASETS_PATH + 'val.csv')\n",
        "\n",
        "print(\"Train length: \\t\", len(train_tweet_X))\n",
        "print(\"Test length: \\t\", len(test_tweet_X))\n",
        "print(\"Val length: \\t\", len(val_tweet_X))"
      ],
      "execution_count": 54,
      "outputs": [
        {
          "output_type": "stream",
          "text": [
            "Train length: \t 40231\n",
            "Test length: \t 11833\n",
            "Val length: \t 7100\n"
          ],
          "name": "stdout"
        }
      ]
    },
    {
      "cell_type": "code",
      "metadata": {
        "id": "EtiNk8Y3DvTL",
        "colab_type": "code",
        "colab": {}
      },
      "source": [
        "def preprocessing(tweets):\n",
        "    \"\"\"\n",
        "    Perform preprocessing of the tweets\n",
        "\n",
        "    Args:\n",
        "        tweets : list of tweets\n",
        "    \n",
        "    Returns:\n",
        "        result: preprocessed list of tweets\n",
        "    \"\"\"\n",
        "    #set of stopwords\n",
        "    stop_words = set(stopwords.words('english'))\n",
        "    \n",
        "    result = []\n",
        "    for tweet in tweets:\n",
        "        \n",
        "        #tokenizing each tweet\n",
        "        tokens = word_tokenize(tweet)\n",
        "        \n",
        "        #removing stopwords\n",
        "        stopwords_removed_tokens = []\n",
        "        for word in tokens:\n",
        "            if word not in stop_words:\n",
        "                stopwords_removed_tokens.append(word)\n",
        "        \n",
        "        result.append(stopwords_removed_tokens)\n",
        "    \n",
        "    return result"
      ],
      "execution_count": 0,
      "outputs": []
    },
    {
      "cell_type": "code",
      "metadata": {
        "id": "gibNqUDuDyuW",
        "colab_type": "code",
        "colab": {}
      },
      "source": [
        "# PREPROCESSING TRAIN, TEST AND VALIDATION TWEETS\n",
        "\n",
        "train_tweet_X = preprocessing(train_tweet_X)\n",
        "test_tweet_X = preprocessing(test_tweet_X)\n",
        "val_tweet_X = preprocessing(val_tweet_X)"
      ],
      "execution_count": 0,
      "outputs": []
    },
    {
      "cell_type": "code",
      "metadata": {
        "id": "QwgNiAxCDy6f",
        "colab_type": "code",
        "colab": {}
      },
      "source": [
        "#COMBINING TRAIN AND TEST TWEETS FOR CREATING TFIDF MATRIX\n",
        "\n",
        "combined_tweets_X = []\n",
        "for tweet in train_tweet_X:\n",
        "    combined_tweets_X.append(tweet)\n",
        "for tweet in test_tweet_X:\n",
        "    combined_tweets_X.append(tweet)\n",
        "\n",
        "combined_Y = []\n",
        "for label in train_tweet_Y:\n",
        "    combined_Y.append(label)\n",
        "for label in test_tweet_Y:\n",
        "    combined_Y.append('UNKNOWN')\n",
        "\n",
        "actual_combined_Y = []\n",
        "for label in train_tweet_Y:\n",
        "    actual_combined_Y.append(label)\n",
        "for label in test_tweet_Y:\n",
        "    actual_combined_Y.append(label)"
      ],
      "execution_count": 0,
      "outputs": []
    },
    {
      "cell_type": "code",
      "metadata": {
        "id": "s08iwfTBip4Z",
        "colab_type": "code",
        "colab": {
          "base_uri": "https://localhost:8080/",
          "height": 121
        },
        "outputId": "dfd96deb-9b75-483f-8544-8ad41546fca2"
      },
      "source": [
        "# CREATING ARRAYS CONTAINING INDICES CORREPONDING TO EACH POLITICIANS TWEET IN combined_tweets_X\n",
        "fawadchaudhry_indices = []\n",
        "maryamnsharif_indices = []\n",
        "mjibrannasir_indices = []\n",
        "narendramodi_indices = []\n",
        "sherryrehman_indices = []\n",
        "\n",
        "for i, label in enumerate(combined_Y):\n",
        "  if label == 'fawadchaudhry':\n",
        "    fawadchaudhry_indices.append(i)\n",
        "  elif label == 'maryamnsharif':\n",
        "    maryamnsharif_indices.append(i)\n",
        "  elif label == 'mjibrannasir':\n",
        "    mjibrannasir_indices.append(i)\n",
        "  elif label == 'narendramodi':\n",
        "    narendramodi_indices.append(i)\n",
        "  elif label == 'sherryrehman':\n",
        "    sherryrehman_indices.append(i)"
      ],
      "execution_count": 58,
      "outputs": [
        {
          "output_type": "stream",
          "text": [
            "6676\n",
            "6774\n",
            "8814\n",
            "11005\n",
            "6962\n",
            "40231\n"
          ],
          "name": "stdout"
        }
      ]
    },
    {
      "cell_type": "code",
      "metadata": {
        "id": "OYjnm69QEJ2u",
        "colab_type": "code",
        "colab": {}
      },
      "source": [
        "# TFIDF VECTORIZER (TRY USING NGRAM OPTION IN VECTORIZER AS WELL)\n",
        "\n",
        "# Helper function\n",
        "def do_nothing(x):\n",
        "    return x\n",
        "\n",
        "def create_features(combined_tweets_X, combined_Y, actual_combined_Y, test_tweet_Y):\n",
        "    \n",
        "    tfidf = TfidfVectorizer(analyzer='word', tokenizer=do_nothing, preprocessor=do_nothing, token_pattern=None)\n",
        "    \n",
        "    combined_Y = np.array(combined_Y)\n",
        "    actual_combined_Y = np.array(actual_combined_Y)\n",
        "    test_tweet_Y = np.array(test_tweet_Y)\n",
        "    combined_tweets_X = tfidf.fit_transform(combined_tweets_X)\n",
        "#     test_tweet_X = tfidf.transform(test_tweet_X)\n",
        "\n",
        "    return (combined_tweets_X, combined_Y, actual_combined_Y, test_tweet_Y)"
      ],
      "execution_count": 0,
      "outputs": []
    },
    {
      "cell_type": "code",
      "metadata": {
        "id": "Cv6m0T3lEJ6N",
        "colab_type": "code",
        "colab": {}
      },
      "source": [
        "combined_tweets_X, combined_Y, actual_combined_Y, test_tweet_Y = create_features(combined_tweets_X, combined_Y, actual_combined_Y, test_tweet_Y)"
      ],
      "execution_count": 0,
      "outputs": []
    },
    {
      "cell_type": "code",
      "metadata": {
        "id": "3iE_UValEndV",
        "colab_type": "code",
        "colab": {}
      },
      "source": [
        "# from sklearn.metrics.pairwise import cosine_similarity\n",
        "all_similarities = []\n",
        "for i in range(len(train_tweet_X), len(actual_combined_Y)):\n",
        "  X = cosine_similarity(combined_tweets_X[i:i+1], combined_tweets_X)\n",
        "  all_similarities.append(X)"
      ],
      "execution_count": 0,
      "outputs": []
    },
    {
      "cell_type": "code",
      "metadata": {
        "id": "3jNmqUZTeiNi",
        "colab_type": "code",
        "colab": {}
      },
      "source": [
        "average_cosines = [] #contains test set number of elements, each element containing average cosines of each politician\n",
        "\n",
        "for i in range(len(all_similarities)):\n",
        "  narendramodi_mcs = 0\n",
        "  sherryrehman_mcs = 0\n",
        "  mjibrannasir_mcs = 0\n",
        "  maryamnsharif_mcs = 0\n",
        "  fawadchaudhry_mcs = 0\n",
        "  # print(\"i: \", i)\n",
        "  \n",
        "  for x in fawadchaudhry_indices:\n",
        "    # print(\"x: \", x)\n",
        "    fawadchaudhry_mcs = fawadchaudhry_mcs + all_similarities[i][0][x]\n",
        "  for x in maryamnsharif_indices:\n",
        "    maryamnsharif_mcs = maryamnsharif_mcs + all_similarities[i][0][x]\n",
        "  for x in mjibrannasir_indices:\n",
        "    mjibrannasir_mcs = mjibrannasir_mcs + all_similarities[i][0][x]\n",
        "  for x in sherryrehman_indices:\n",
        "    sherryrehman_mcs = sherryrehman_mcs + all_similarities[i][0][x]\n",
        "  for x in narendramodi_indices:\n",
        "    narendramodi_mcs = narendramodi_mcs + all_similarities[i][0][x]\n",
        "\n",
        "  narendramodi_mcs = narendramodi_mcs / len(narendramodi_indices)\n",
        "  sherryrehman_mcs = sherryrehman_mcs / len(sherryrehman_indices)\n",
        "  mjibrannasir_mcs = mjibrannasir_mcs / len(mjibrannasir_indices)\n",
        "  maryamnsharif_mcs = maryamnsharif_mcs / len(maryamnsharif_indices)\n",
        "  fawadchaudhry_mcs = fawadchaudhry_mcs / len(fawadchaudhry_indices)\n",
        "\n",
        "  average_cosines_per_politician = [fawadchaudhry_mcs, maryamnsharif_mcs, mjibrannasir_mcs, narendramodi_mcs, sherryrehman_mcs]\n",
        "\n",
        "  average_cosines.append(average_cosines_per_politician)"
      ],
      "execution_count": 0,
      "outputs": []
    },
    {
      "cell_type": "code",
      "metadata": {
        "id": "AAf7rpH_wd0Z",
        "colab_type": "code",
        "colab": {}
      },
      "source": [
        "# Getting the predicted values by taking the maximum of the mean cosine similarities\n",
        "predictions = []\n",
        "politicians_list = ['fawadchaudhry', 'maryamnsharif', 'mjibrannasir', 'narendramodi', 'sherryrehman']\n",
        "for i, avg_cos in enumerate(average_cosines):\n",
        "  index = average_cosines[i].index(max(average_cosines[i]))\n",
        "  predictions.append(politicians_list[index])"
      ],
      "execution_count": 0,
      "outputs": []
    },
    {
      "cell_type": "code",
      "metadata": {
        "id": "f_wCcjSpyuE5",
        "colab_type": "code",
        "colab": {
          "base_uri": "https://localhost:8080/",
          "height": 606
        },
        "outputId": "f87bdd4a-42ab-445e-d885-bac83b4fe532"
      },
      "source": [
        "# Plotting Confusion Matrix\n",
        "\n",
        "conf_mat = confusion_matrix(test_tweet_Y, predictions)\n",
        "fig, ax = plt.subplots(figsize=(10,10))\n",
        "sns.heatmap(conf_mat, annot=True, fmt='d',\n",
        "            xticklabels=['0', '1', '2', '3', '4'], yticklabels=['0', '1', '2', '3', '4'])\n",
        "plt.ylabel('Actual')\n",
        "plt.xlabel('Predicted')\n",
        "plt.show()"
      ],
      "execution_count": 99,
      "outputs": [
        {
          "output_type": "display_data",
          "data": {
            "image/png": "[encoded data removed]",
            "text/plain": [
              "<Figure size 720x720 with 2 Axes>"
            ]
          },
          "metadata": {
            "tags": [],
            "needs_background": "light"
          }
        }
      ]
    },
    {
      "cell_type": "code",
      "metadata": {
        "id": "epoHBtlDygmd",
        "colab_type": "code",
        "colab": {
          "base_uri": "https://localhost:8080/",
          "height": 225
        },
        "outputId": "1900b905-24fa-43d5-9e6b-1f40b0bbd8b6"
      },
      "source": [
        "print(classification_report(test_tweet_Y, predictions))"
      ],
      "execution_count": 98,
      "outputs": [
        {
          "output_type": "stream",
          "text": [
            "               precision    recall  f1-score   support\n",
            "\n",
            "fawadchaudhry       0.76      0.76      0.76      1976\n",
            "maryamnsharif       0.64      0.71      0.68      1950\n",
            " mjibrannasir       0.73      0.64      0.68      2613\n",
            " narendramodi       0.87      0.90      0.89      3270\n",
            " sherryrehman       0.65      0.63      0.64      2024\n",
            "\n",
            "     accuracy                           0.74     11833\n",
            "    macro avg       0.73      0.73      0.73     11833\n",
            " weighted avg       0.74      0.74      0.74     11833\n",
            "\n"
          ],
          "name": "stdout"
        }
      ]
    }
  ]
}