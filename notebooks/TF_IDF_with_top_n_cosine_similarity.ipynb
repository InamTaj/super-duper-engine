{
  "nbformat": 4,
  "nbformat_minor": 0,
  "metadata": {
    "kernelspec": {
      "name": "python3",
      "display_name": "Python 3"
    },
    "colab": {
      "name": "TF-IDF with top n cosine similarity.ipynb",
      "provenance": [],
      "collapsed_sections": []
    },
    "accelerator": "GPU"
  },
  "cells": [
    {
      "cell_type": "code",
      "metadata": {
        "id": "Nr20pEssxUT_",
        "colab_type": "code",
        "colab": {}
      },
      "source": [
        "import pandas as pd\n",
        "import numpy as np\n",
        "import nltk\n",
        "from nltk.tokenize import word_tokenize\n",
        "from nltk.corpus import stopwords\n",
        "from sklearn.feature_extraction.text import TfidfVectorizer\n",
        "from sklearn.metrics import confusion_matrix, classification_report\n",
        "import seaborn as sns\n",
        "import matplotlib.pyplot as plt\n",
        "from sklearn.metrics.pairwise import cosine_similarity\n",
        "from sklearn.metrics.pairwise import linear_kernel\n",
        "import scipy.sparse as sp\n",
        "import scipy.linalg as sparcyLinalg\n",
        "from collections import Counter"
      ],
      "execution_count": 0,
      "outputs": []
    },
    {
      "cell_type": "code",
      "metadata": {
        "id": "VGQMR6LfxqYV",
        "colab_type": "code",
        "outputId": "6c2143d7-9f7f-41f1-be09-76f2c2480bb2",
        "colab": {
          "base_uri": "https://localhost:8080/",
          "height": 124
        }
      },
      "source": [
        "from google.colab import drive\n",
        "drive.mount('/content/drive', force_remount=True)"
      ],
      "execution_count": 2,
      "outputs": [
        {
          "output_type": "stream",
          "text": [
            "Go to this URL in a browser: https://accounts.google.com/o/oauth2/auth?client_id=947318989803-6bn6qk8qdgf4n4g3pfee6491hc0brc4i.apps.googleusercontent.com&redirect_uri=urn%3aietf%3awg%3aoauth%3a2.0%3aoob&response_type=code&scope=email%20https%3a%2f%2fwww.googleapis.com%2fauth%2fdocs.test%20https%3a%2f%2fwww.googleapis.com%2fauth%2fdrive%20https%3a%2f%2fwww.googleapis.com%2fauth%2fdrive.photos.readonly%20https%3a%2f%2fwww.googleapis.com%2fauth%2fpeopleapi.readonly\n",
            "\n",
            "Enter your authorization code:\n",
            "··········\n",
            "Mounted at /content/drive\n"
          ],
          "name": "stdout"
        }
      ]
    },
    {
      "cell_type": "code",
      "metadata": {
        "id": "mAs3fiSiD4oG",
        "colab_type": "code",
        "outputId": "085974f9-69e6-450d-8da9-fb4bd4ef5342",
        "colab": {
          "base_uri": "https://localhost:8080/",
          "height": 104
        }
      },
      "source": [
        "import nltk\n",
        "nltk.download('stopwords')\n",
        "nltk.download('punkt')"
      ],
      "execution_count": 3,
      "outputs": [
        {
          "output_type": "stream",
          "text": [
            "[nltk_data] Downloading package stopwords to /root/nltk_data...\n",
            "[nltk_data]   Unzipping corpora/stopwords.zip.\n",
            "[nltk_data] Downloading package punkt to /root/nltk_data...\n",
            "[nltk_data]   Unzipping tokenizers/punkt.zip.\n"
          ],
          "name": "stdout"
        },
        {
          "output_type": "execute_result",
          "data": {
            "text/plain": [
              "True"
            ]
          },
          "metadata": {
            "tags": []
          },
          "execution_count": 3
        }
      ]
    },
    {
      "cell_type": "code",
      "metadata": {
        "id": "P_plDjnFyRR_",
        "colab_type": "code",
        "colab": {}
      },
      "source": [
        "BASE_DIR = '/content/drive/My Drive/tfidf_cosine/'"
      ],
      "execution_count": 0,
      "outputs": []
    },
    {
      "cell_type": "code",
      "metadata": {
        "id": "eLWae3iZxUUN",
        "colab_type": "code",
        "colab": {}
      },
      "source": [
        "DATASETS_PATH = BASE_DIR"
      ],
      "execution_count": 0,
      "outputs": []
    },
    {
      "cell_type": "code",
      "metadata": {
        "id": "6F9zQibVxUUa",
        "colab_type": "code",
        "colab": {}
      },
      "source": [
        "def load_data(filename_train, filename_test, filename_val):\n",
        "    \"\"\"\n",
        "    Load train, test and validation sets from file\n",
        "\n",
        "    Args:\n",
        "        filename_train : Name of the file from which the train data is to be loaded\n",
        "        filename_test : Name of the file from which the test data is to be loaded\n",
        "        filename_val : Name of the file from which the validation data is to be loaded\n",
        "    \n",
        "    Returns:\n",
        "        train_tweet_X: list of tweets from train data\n",
        "        train_tweet_Y: list of lables correponding to each tweet from train data\n",
        "        test_tweet_X: list of tweets from test data\n",
        "        test_tweet_Y: list of lables correponding to each tweet from test data\n",
        "        val_tweet_X: list of tweets from validation data\n",
        "        val_tweet_Y: list of lables correponding to each tweet from validation data\n",
        "    \"\"\"\n",
        "    train = pd.read_csv(filename_train)\n",
        "    test = pd.read_csv(filename_test)\n",
        "    val = pd.read_csv(filename_val)\n",
        "    \n",
        "    return train['Text'].tolist(), train['Label'].tolist(), test['Text'].tolist(), test['Label'].tolist(), val['Text'].tolist(), val['Label'].tolist()"
      ],
      "execution_count": 0,
      "outputs": []
    },
    {
      "cell_type": "code",
      "metadata": {
        "id": "tWLE3RuOxUUj",
        "colab_type": "code",
        "outputId": "f7c39948-5454-4e7d-a4a8-429d269880e0",
        "colab": {
          "base_uri": "https://localhost:8080/",
          "height": 69
        }
      },
      "source": [
        "# LOADING TRAIN, TEST AND VALIDATION SETS\n",
        "\n",
        "train_tweet_X, train_tweet_Y, test_tweet_X, test_tweet_Y, val_tweet_X, val_tweet_Y = load_data(DATASETS_PATH + 'train.csv', DATASETS_PATH + 'test.csv', DATASETS_PATH + 'val.csv')\n",
        "\n",
        "print(\"Train length: \\t\", len(train_tweet_X))\n",
        "print(\"Test length: \\t\", len(test_tweet_X))\n",
        "print(\"Val length: \\t\", len(val_tweet_X))"
      ],
      "execution_count": 7,
      "outputs": [
        {
          "output_type": "stream",
          "text": [
            "Train length: \t 40231\n",
            "Test length: \t 11833\n",
            "Val length: \t 7100\n"
          ],
          "name": "stdout"
        }
      ]
    },
    {
      "cell_type": "code",
      "metadata": {
        "id": "EtiNk8Y3DvTL",
        "colab_type": "code",
        "colab": {}
      },
      "source": [
        "def preprocessing(tweets):\n",
        "    \"\"\"\n",
        "    Perform preprocessing of the tweets\n",
        "\n",
        "    Args:\n",
        "        tweets : list of tweets\n",
        "    \n",
        "    Returns:\n",
        "        result: preprocessed list of tweets\n",
        "    \"\"\"\n",
        "    #set of stopwords\n",
        "    stop_words = set(stopwords.words('english'))\n",
        "    \n",
        "    result = []\n",
        "    for tweet in tweets:\n",
        "        \n",
        "        #tokenizing each tweet\n",
        "        tokens = word_tokenize(tweet)\n",
        "        \n",
        "        #removing stopwords\n",
        "        stopwords_removed_tokens = []\n",
        "        for word in tokens:\n",
        "            if word not in stop_words:\n",
        "                stopwords_removed_tokens.append(word)\n",
        "        \n",
        "        result.append(stopwords_removed_tokens)\n",
        "    \n",
        "    return result"
      ],
      "execution_count": 0,
      "outputs": []
    },
    {
      "cell_type": "code",
      "metadata": {
        "id": "gibNqUDuDyuW",
        "colab_type": "code",
        "colab": {}
      },
      "source": [
        "# PREPROCESSING TRAIN, TEST AND VALIDATION TWEETS\n",
        "\n",
        "train_tweet_X = preprocessing(train_tweet_X)\n",
        "test_tweet_X = preprocessing(test_tweet_X)\n",
        "val_tweet_X = preprocessing(val_tweet_X)"
      ],
      "execution_count": 0,
      "outputs": []
    },
    {
      "cell_type": "code",
      "metadata": {
        "id": "QwgNiAxCDy6f",
        "colab_type": "code",
        "colab": {}
      },
      "source": [
        "#COMBINING TRAIN AND TEST TWEETS FOR CREATING TFIDF MATRIX\n",
        "\n",
        "combined_tweets_X = []\n",
        "for tweet in train_tweet_X:\n",
        "    combined_tweets_X.append(tweet)\n",
        "for tweet in test_tweet_X:\n",
        "    combined_tweets_X.append(tweet)\n",
        "\n",
        "combined_Y = []\n",
        "for label in train_tweet_Y:\n",
        "    combined_Y.append(label)\n",
        "for label in test_tweet_Y:\n",
        "    combined_Y.append('UNKNOWN')\n",
        "\n",
        "actual_combined_Y = []\n",
        "for label in train_tweet_Y:\n",
        "    actual_combined_Y.append(label)\n",
        "for label in test_tweet_Y:\n",
        "    actual_combined_Y.append(label)"
      ],
      "execution_count": 0,
      "outputs": []
    },
    {
      "cell_type": "code",
      "metadata": {
        "id": "OYjnm69QEJ2u",
        "colab_type": "code",
        "colab": {}
      },
      "source": [
        "# TFIDF VECTORIZER (TRY USING NGRAM OPTION IN VECTORIZER AS WELL)\n",
        "\n",
        "# Helper function\n",
        "def do_nothing(x):\n",
        "    return x\n",
        "\n",
        "def create_features(combined_tweets_X, combined_Y, actual_combined_Y, test_tweet_Y):\n",
        "    \n",
        "    tfidf = TfidfVectorizer(analyzer='word', tokenizer=do_nothing, preprocessor=do_nothing, token_pattern=None)\n",
        "    \n",
        "    combined_Y = np.array(combined_Y)\n",
        "    actual_combined_Y = np.array(actual_combined_Y)\n",
        "    test_tweet_Y = np.array(test_tweet_Y)\n",
        "    combined_tweets_X = tfidf.fit_transform(combined_tweets_X)\n",
        "#     test_tweet_X = tfidf.transform(test_tweet_X)\n",
        "\n",
        "    return (combined_tweets_X, combined_Y, actual_combined_Y, test_tweet_Y)"
      ],
      "execution_count": 0,
      "outputs": []
    },
    {
      "cell_type": "code",
      "metadata": {
        "id": "Cv6m0T3lEJ6N",
        "colab_type": "code",
        "colab": {}
      },
      "source": [
        "combined_tweets_X, combined_Y, actual_combined_Y, test_tweet_Y = create_features(combined_tweets_X, combined_Y, actual_combined_Y, test_tweet_Y)"
      ],
      "execution_count": 0,
      "outputs": []
    },
    {
      "cell_type": "code",
      "metadata": {
        "id": "JMsOKBXVQlPS",
        "colab_type": "code",
        "colab": {}
      },
      "source": [
        "def find_similar(tfidf_matrix, index, top_n = 10):\n",
        "    cosine_similarities = linear_kernel(tfidf_matrix[index:index+1], tfidf_matrix).flatten()\n",
        "    related_docs_indices = [i for i in cosine_similarities.argsort()[::-1] if i != index]\n",
        "    return [(index, cosine_similarities[index]) for index in related_docs_indices][0:top_n]"
      ],
      "execution_count": 0,
      "outputs": []
    },
    {
      "cell_type": "code",
      "metadata": {
        "id": "7Fix-JL2Q53l",
        "colab_type": "code",
        "colab": {}
      },
      "source": [
        "all_similarities = []\n",
        "for i in range(len(train_tweet_X), len(actual_combined_Y)):\n",
        "  X = find_similar(combined_tweets_X, i)\n",
        "  all_similarities.append(X)"
      ],
      "execution_count": 0,
      "outputs": []
    },
    {
      "cell_type": "code",
      "metadata": {
        "id": "PHZBTbfsUeeG",
        "colab_type": "code",
        "colab": {}
      },
      "source": [
        "def most_frequent(my_list): \n",
        "    occurence_count = Counter(my_list) \n",
        "    return occurence_count.most_common(1)[0][0] "
      ],
      "execution_count": 0,
      "outputs": []
    },
    {
      "cell_type": "code",
      "metadata": {
        "id": "Hf9KMEGjYSWN",
        "colab_type": "code",
        "colab": {}
      },
      "source": [
        "predictions = []\n",
        "for index, x in enumerate(all_similarities):\n",
        "  preds = []\n",
        "  for i in x:\n",
        "    preds.append(actual_combined_Y[i[0]])\n",
        "  predictions.append(most_frequent(preds))"
      ],
      "execution_count": 0,
      "outputs": []
    },
    {
      "cell_type": "code",
      "metadata": {
        "id": "1J21EqCTfhst",
        "colab_type": "code",
        "colab": {
          "base_uri": "https://localhost:8080/",
          "height": 606
        },
        "outputId": "34dc7a8f-767c-455f-8e52-7bb9970aa376"
      },
      "source": [
        "# Plotting Confusion Matrix\n",
        "\n",
        "conf_mat = confusion_matrix(test_tweet_Y, predictions)\n",
        "fig, ax = plt.subplots(figsize=(10,10))\n",
        "sns.heatmap(conf_mat, annot=True, fmt='d',\n",
        "            xticklabels=['0', '1', '2', '3', '4'], yticklabels=['0', '1', '2', '3', '4'])\n",
        "plt.ylabel('Actual')\n",
        "plt.xlabel('Predicted')\n",
        "plt.show()"
      ],
      "execution_count": 57,
      "outputs": [
        {
          "output_type": "display_data",
          "data": {
            "image/png": "[encoded data removed]",
            "text/plain": [
              "<Figure size 720x720 with 2 Axes>"
            ]
          },
          "metadata": {
            "tags": [],
            "needs_background": "light"
          }
        }
      ]
    },
    {
      "cell_type": "code",
      "metadata": {
        "id": "UvzcO42RfmWk",
        "colab_type": "code",
        "colab": {
          "base_uri": "https://localhost:8080/",
          "height": 225
        },
        "outputId": "25dca92f-029a-4084-88f2-e1493a831129"
      },
      "source": [
        "print(classification_report(test_tweet_Y, predictions))"
      ],
      "execution_count": 58,
      "outputs": [
        {
          "output_type": "stream",
          "text": [
            "               precision    recall  f1-score   support\n",
            "\n",
            "fawadchaudhry       0.83      0.72      0.77      1976\n",
            "maryamnsharif       0.70      0.80      0.75      1950\n",
            " mjibrannasir       0.75      0.76      0.76      2613\n",
            " narendramodi       0.82      0.97      0.89      3270\n",
            " sherryrehman       0.79      0.54      0.65      2024\n",
            "\n",
            "     accuracy                           0.78     11833\n",
            "    macro avg       0.78      0.76      0.76     11833\n",
            " weighted avg       0.78      0.78      0.78     11833\n",
            "\n"
          ],
          "name": "stdout"
        }
      ]
    },
    {
      "cell_type": "code",
      "metadata": {
        "id": "9n1p97w9ZMHD",
        "colab_type": "code",
        "colab": {}
      },
      "source": [
        ""
      ],
      "execution_count": 0,
      "outputs": []
    }
  ]
}