{
 "cells": [
  {
   "cell_type": "code",
   "execution_count": 11,
   "metadata": {},
   "outputs": [],
   "source": [
    "import pandas as pd\n",
    "import numpy as np\n",
    "import nltk\n",
    "from nltk.tokenize import word_tokenize\n",
    "from nltk.corpus import stopwords\n",
    "from sklearn.feature_extraction.text import TfidfVectorizer\n",
    "from sklearn.svm import LinearSVC\n",
    "from sklearn.metrics import confusion_matrix, classification_report\n",
    "import seaborn as sns\n",
    "import matplotlib.pyplot as plt"
   ]
  },
  {
   "cell_type": "code",
   "execution_count": 2,
   "metadata": {},
   "outputs": [],
   "source": [
    "DATASETS_PATH = '../dataset/5_processed/'"
   ]
  },
  {
   "cell_type": "code",
   "execution_count": 3,
   "metadata": {},
   "outputs": [],
   "source": [
    "def load_data(filename_train, filename_test, filename_val):\n",
    "    \"\"\"\n",
    "    Load train, test and validation sets from file\n",
    "\n",
    "    Args:\n",
    "        filename_train : Name of the file from which the train data is to be loaded\n",
    "        filename_test : Name of the file from which the test data is to be loaded\n",
    "        filename_val : Name of the file from which the validation data is to be loaded\n",
    "    \n",
    "    Returns:\n",
    "        train_tweet_X: list of tweets from train data\n",
    "        train_tweet_Y: list of lables correponding to each tweet from train data\n",
    "        test_tweet_X: list of tweets from test data\n",
    "        test_tweet_Y: list of lables correponding to each tweet from test data\n",
    "        val_tweet_X: list of tweets from validation data\n",
    "        val_tweet_Y: list of lables correponding to each tweet from validation data\n",
    "    \"\"\"\n",
    "    train = pd.read_csv(filename_train)\n",
    "    test = pd.read_csv(filename_test)\n",
    "    val = pd.read_csv(filename_val)\n",
    "    \n",
    "    return train['Text'].tolist(), train['Label'].tolist(), test['Text'].tolist(), test['Label'].tolist(), val['Text'].tolist(), val['Label'].tolist()"
   ]
  },
  {
   "cell_type": "code",
   "execution_count": 4,
   "metadata": {},
   "outputs": [
    {
     "name": "stdout",
     "output_type": "stream",
     "text": [
      "Train length: \t 40231\n",
      "Test length: \t 11833\n",
      "Val length: \t 7100\n"
     ]
    }
   ],
   "source": [
    "# LOADING TRAIN, TEST AND VALIDATION SETS\n",
    "\n",
    "train_tweet_X, train_tweet_Y, test_tweet_X, test_tweet_Y, val_tweet_X, val_tweet_Y = load_data(DATASETS_PATH + 'train.csv', DATASETS_PATH + 'test.csv', DATASETS_PATH + 'val.csv')\n",
    "\n",
    "print(\"Train length: \\t\", len(train_tweet_X))\n",
    "print(\"Test length: \\t\", len(test_tweet_X))\n",
    "print(\"Val length: \\t\", len(val_tweet_X))"
   ]
  },
  {
   "cell_type": "code",
   "execution_count": 5,
   "metadata": {},
   "outputs": [],
   "source": [
    "def preprocessing(tweets):\n",
    "    \"\"\"\n",
    "    Perform preprocessing of the tweets\n",
    "\n",
    "    Args:\n",
    "        tweets : list of tweets\n",
    "    \n",
    "    Returns:\n",
    "        result: preprocessed list of tweets\n",
    "    \"\"\"\n",
    "    #set of stopwords\n",
    "    stop_words = set(stopwords.words('english'))\n",
    "    \n",
    "    result = []\n",
    "    for tweet in tweets:\n",
    "        \n",
    "        #tokenizing each tweet\n",
    "        tokens = word_tokenize(tweet)\n",
    "        \n",
    "        #removing stopwords\n",
    "        stopwords_removed_tokens = []\n",
    "        for word in tokens:\n",
    "            if word not in stop_words:\n",
    "                stopwords_removed_tokens.append(word)\n",
    "        \n",
    "        result.append(stopwords_removed_tokens)\n",
    "    \n",
    "    return result"
   ]
  },
  {
   "cell_type": "code",
   "execution_count": 6,
   "metadata": {},
   "outputs": [],
   "source": [
    "# PREPROCESSING TRAIN, TEST AND VALIDATION TWEETS\n",
    "\n",
    "train_tweet_X = preprocessing(train_tweet_X)\n",
    "test_tweet_X = preprocessing(test_tweet_X)\n",
    "val_tweet_X = preprocessing(val_tweet_X)"
   ]
  },
  {
   "cell_type": "code",
   "execution_count": 7,
   "metadata": {},
   "outputs": [],
   "source": [
    "# TFIDF VECTORIZER\n",
    "\n",
    "# Helper function\n",
    "def do_nothing(x):\n",
    "    return x\n",
    "\n",
    "def create_features(train_tweet_X, train_tweet_Y, test_tweet_X, test_tweet_Y, val_tweet_X, val_tweet_Y):\n",
    "    \n",
    "    tfidf = TfidfVectorizer(analyzer='word', tokenizer=do_nothing, preprocessor=do_nothing, token_pattern=None)\n",
    "    \n",
    "    train_tweet_Y = np.array(train_tweet_Y)\n",
    "    test_tweet_Y = np.array(test_tweet_Y)\n",
    "    val_tweet_Y = np.array(val_tweet_Y)\n",
    "    train_tweet_X = tfidf.fit_transform(train_tweet_X)\n",
    "    test_tweet_X = tfidf.transform(test_tweet_X)\n",
    "\n",
    "    return (train_tweet_X, train_tweet_Y, test_tweet_X, test_tweet_Y, val_tweet_X, val_tweet_Y)"
   ]
  },
  {
   "cell_type": "code",
   "execution_count": 8,
   "metadata": {},
   "outputs": [],
   "source": [
    "train_tweet_X, train_tweet_Y, test_tweet_X, test_tweet_Y, val_tweet_X, val_tweet_Y = create_features(train_tweet_X, train_tweet_Y, test_tweet_X, test_tweet_Y, val_tweet_X, val_tweet_Y)"
   ]
  },
  {
   "cell_type": "code",
   "execution_count": 9,
   "metadata": {},
   "outputs": [
    {
     "name": "stdout",
     "output_type": "stream",
     "text": [
      "Accuracy: 86.50384517873742%\n"
     ]
    }
   ],
   "source": [
    "# Create a linear SVM classifier \n",
    "classifier = LinearSVC()\n",
    "\n",
    "# Train classifier \n",
    "classifier.fit(train_tweet_X, train_tweet_Y)\n",
    "\n",
    "predictions = classifier.predict(test_tweet_X)\n",
    "\n",
    "print(\"Accuracy: {}%\".format(classifier.score(test_tweet_X, test_tweet_Y) * 100 ))"
   ]
  },
  {
   "cell_type": "code",
   "execution_count": 10,
   "metadata": {},
   "outputs": [
    {
     "data": {
      "image/png": "[encoded data removed]",
      "text/plain": [
       "<Figure size 720x720 with 2 Axes>"
      ]
     },
     "metadata": {
      "needs_background": "light"
     },
     "output_type": "display_data"
    }
   ],
   "source": [
    "# Plotting Confusion Matrix\n",
    "\n",
    "conf_mat = confusion_matrix(test_tweet_Y, predictions)\n",
    "fig, ax = plt.subplots(figsize=(10,10))\n",
    "sns.heatmap(conf_mat, annot=True, fmt='d',\n",
    "            xticklabels=['0', '1', '2', '3', '4'], yticklabels=['0', '1', '2', '3', '4'])\n",
    "plt.ylabel('Actual')\n",
    "plt.xlabel('Predicted')\n",
    "plt.show()"
   ]
  },
  {
   "cell_type": "code",
   "execution_count": 12,
   "metadata": {},
   "outputs": [
    {
     "name": "stdout",
     "output_type": "stream",
     "text": [
      "               precision    recall  f1-score   support\n",
      "\n",
      "fawadchaudhry       0.90      0.84      0.87      1976\n",
      "maryamnsharif       0.84      0.83      0.83      1950\n",
      " mjibrannasir       0.83      0.84      0.84      2613\n",
      " narendramodi       0.94      0.97      0.95      3270\n",
      " sherryrehman       0.78      0.79      0.79      2024\n",
      "\n",
      "     accuracy                           0.87     11833\n",
      "    macro avg       0.86      0.85      0.86     11833\n",
      " weighted avg       0.87      0.87      0.86     11833\n",
      "\n"
     ]
    }
   ],
   "source": [
    "# Classification Report\n",
    "\n",
    "print(classification_report(test_tweet_Y, predictions))"
   ]
  },
  {
   "cell_type": "code",
   "execution_count": null,
   "metadata": {},
   "outputs": [],
   "source": []
  }
 ],
 "metadata": {
  "kernelspec": {
   "display_name": "Python [conda env:NLP] *",
   "language": "python",
   "name": "conda-env-NLP-py"
  },
  "language_info": {
   "codemirror_mode": {
    "name": "ipython",
    "version": 3
   },
   "file_extension": ".py",
   "mimetype": "text/x-python",
   "name": "python",
   "nbconvert_exporter": "python",
   "pygments_lexer": "ipython3",
   "version": "3.7.6"
  }
 },
 "nbformat": 4,
 "nbformat_minor": 4
}
